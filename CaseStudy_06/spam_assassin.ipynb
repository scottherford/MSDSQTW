{
 "cells": [
  {
   "cell_type": "code",
   "execution_count": 1,
   "metadata": {},
   "outputs": [],
   "source": [
    "x = \"hello world\""
   ]
  },
  {
   "cell_type": "code",
   "execution_count": 2,
   "metadata": {},
   "outputs": [
    {
     "data": {
      "text/html": [
       "'hello world'"
      ],
      "text/latex": [
       "'hello world'"
      ],
      "text/markdown": [
       "'hello world'"
      ],
      "text/plain": [
       "[1] \"hello world\""
      ]
     },
     "metadata": {},
     "output_type": "display_data"
    }
   ],
   "source": [
    "x"
   ]
  },
  {
   "cell_type": "code",
   "execution_count": 3,
   "metadata": {},
   "outputs": [],
   "source": [
    "#‎⁨Macintosh HD⁩ ▸ ⁨Users⁩ ▸ ⁨jheford⁩ ▸ ⁨Google Drive⁩ ▸ ⁨Data_Science⁩ ▸ ⁨MSDS 7333 QTW⁩ ▸ ⁨CaseStudy_06⁩"
   ]
  },
  {
   "cell_type": "code",
   "execution_count": 4,
   "metadata": {},
   "outputs": [
    {
     "data": {
      "text/html": [
       "<ol class=list-inline>\n",
       "\t<li>''</li>\n",
       "\t<li>'easy_ham'</li>\n",
       "\t<li>'easy_ham_2'</li>\n",
       "\t<li>'hard_ham'</li>\n",
       "\t<li>'spam'</li>\n",
       "\t<li>'spam_2'</li>\n",
       "</ol>\n"
      ],
      "text/latex": [
       "\\begin{enumerate*}\n",
       "\\item ''\n",
       "\\item 'easy\\_ham'\n",
       "\\item 'easy\\_ham\\_2'\n",
       "\\item 'hard\\_ham'\n",
       "\\item 'spam'\n",
       "\\item 'spam\\_2'\n",
       "\\end{enumerate*}\n"
      ],
      "text/markdown": [
       "1. ''\n",
       "2. 'easy_ham'\n",
       "3. 'easy_ham_2'\n",
       "4. 'hard_ham'\n",
       "5. 'spam'\n",
       "6. 'spam_2'\n",
       "\n",
       "\n"
      ],
      "text/plain": [
       "[1] \"\"           \"easy_ham\"   \"easy_ham_2\" \"hard_ham\"   \"spam\"      \n",
       "[6] \"spam_2\"    "
      ]
     },
     "metadata": {},
     "output_type": "display_data"
    }
   ],
   "source": [
    "spamPath = system.file(package = \"SpamAssassinMessages\")\n",
    "spamPath = \"SpamAssassinMessages\"#spamPath = \".\"\n",
    "#spamPath = \"/Users/nolan/RPackages/RSpamData\"spamPath = \".\"\n",
    "\n",
    "list.dirs(spamPath, full.names = FALSE)\n"
   ]
  },
  {
   "cell_type": "code",
   "execution_count": 5,
   "metadata": {},
   "outputs": [
    {
     "data": {
      "text/html": [
       "<ol class=list-inline>\n",
       "\t<li>'00001.7c53336b37003a9286aba55d2945844c'</li>\n",
       "\t<li>'00002.9c4069e25e1ef370c078db7ee85ff9ac'</li>\n",
       "\t<li>'00003.860e3c3cee1b42ead714c5c874fe25f7'</li>\n",
       "\t<li>'00004.864220c5b6930b209cc287c361c99af1'</li>\n",
       "\t<li>'00005.bf27cdeaf0b8c4647ecd61b1d09da613'</li>\n",
       "\t<li>'00006.253ea2f9a9cc36fa0b1129b04b806608'</li>\n",
       "</ol>\n"
      ],
      "text/latex": [
       "\\begin{enumerate*}\n",
       "\\item '00001.7c53336b37003a9286aba55d2945844c'\n",
       "\\item '00002.9c4069e25e1ef370c078db7ee85ff9ac'\n",
       "\\item '00003.860e3c3cee1b42ead714c5c874fe25f7'\n",
       "\\item '00004.864220c5b6930b209cc287c361c99af1'\n",
       "\\item '00005.bf27cdeaf0b8c4647ecd61b1d09da613'\n",
       "\\item '00006.253ea2f9a9cc36fa0b1129b04b806608'\n",
       "\\end{enumerate*}\n"
      ],
      "text/markdown": [
       "1. '00001.7c53336b37003a9286aba55d2945844c'\n",
       "2. '00002.9c4069e25e1ef370c078db7ee85ff9ac'\n",
       "3. '00003.860e3c3cee1b42ead714c5c874fe25f7'\n",
       "4. '00004.864220c5b6930b209cc287c361c99af1'\n",
       "5. '00005.bf27cdeaf0b8c4647ecd61b1d09da613'\n",
       "6. '00006.253ea2f9a9cc36fa0b1129b04b806608'\n",
       "\n",
       "\n"
      ],
      "text/plain": [
       "[1] \"00001.7c53336b37003a9286aba55d2945844c\"\n",
       "[2] \"00002.9c4069e25e1ef370c078db7ee85ff9ac\"\n",
       "[3] \"00003.860e3c3cee1b42ead714c5c874fe25f7\"\n",
       "[4] \"00004.864220c5b6930b209cc287c361c99af1\"\n",
       "[5] \"00005.bf27cdeaf0b8c4647ecd61b1d09da613\"\n",
       "[6] \"00006.253ea2f9a9cc36fa0b1129b04b806608\""
      ]
     },
     "metadata": {},
     "output_type": "display_data"
    }
   ],
   "source": [
    "head(list.files(path = paste(spamPath, \"easy_ham\", \n",
    "                        sep = .Platform$file.sep)))"
   ]
  },
  {
   "cell_type": "code",
   "execution_count": 6,
   "metadata": {},
   "outputs": [
    {
     "data": {
      "text/html": [
       "<ol class=list-inline>\n",
       "\t<li>'00001.317e78fa8ee2f54cd4890fdc09ba8176'</li>\n",
       "\t<li>'00002.9438920e9a55591b18e60d1ed37d992b'</li>\n",
       "\t<li>'00003.590eff932f8704d8b0fcbe69d023b54d'</li>\n",
       "\t<li>'00004.bdcc075fa4beb5157b5dd6cd41d8887b'</li>\n",
       "\t<li>'00005.ed0aba4d386c5e62bc737cf3f0ed9589'</li>\n",
       "\t<li>'00006.3ca1f399ccda5d897fecb8c57669a283'</li>\n",
       "</ol>\n"
      ],
      "text/latex": [
       "\\begin{enumerate*}\n",
       "\\item '00001.317e78fa8ee2f54cd4890fdc09ba8176'\n",
       "\\item '00002.9438920e9a55591b18e60d1ed37d992b'\n",
       "\\item '00003.590eff932f8704d8b0fcbe69d023b54d'\n",
       "\\item '00004.bdcc075fa4beb5157b5dd6cd41d8887b'\n",
       "\\item '00005.ed0aba4d386c5e62bc737cf3f0ed9589'\n",
       "\\item '00006.3ca1f399ccda5d897fecb8c57669a283'\n",
       "\\end{enumerate*}\n"
      ],
      "text/markdown": [
       "1. '00001.317e78fa8ee2f54cd4890fdc09ba8176'\n",
       "2. '00002.9438920e9a55591b18e60d1ed37d992b'\n",
       "3. '00003.590eff932f8704d8b0fcbe69d023b54d'\n",
       "4. '00004.bdcc075fa4beb5157b5dd6cd41d8887b'\n",
       "5. '00005.ed0aba4d386c5e62bc737cf3f0ed9589'\n",
       "6. '00006.3ca1f399ccda5d897fecb8c57669a283'\n",
       "\n",
       "\n"
      ],
      "text/plain": [
       "[1] \"00001.317e78fa8ee2f54cd4890fdc09ba8176\"\n",
       "[2] \"00002.9438920e9a55591b18e60d1ed37d992b\"\n",
       "[3] \"00003.590eff932f8704d8b0fcbe69d023b54d\"\n",
       "[4] \"00004.bdcc075fa4beb5157b5dd6cd41d8887b\"\n",
       "[5] \"00005.ed0aba4d386c5e62bc737cf3f0ed9589\"\n",
       "[6] \"00006.3ca1f399ccda5d897fecb8c57669a283\""
      ]
     },
     "metadata": {},
     "output_type": "display_data"
    }
   ],
   "source": [
    "head(list.files(path = paste(spamPath, \"spam_2\",\n",
    "                             sep = .Platform$file.sep)))\n",
    "\n",
    "\n",
    "#dirNames = list.files(path = paste(spamPath, \"messages\", \n",
    "                      #sep = .Platform$file.sep))\n",
    "#length(list.files(paste(spamPath, \"messages\", dirNames, \n",
    "                        #sep = .Platform$file.sep)))"
   ]
  },
  {
   "cell_type": "code",
   "execution_count": 7,
   "metadata": {},
   "outputs": [
    {
     "data": {
      "text/html": [
       "9337"
      ],
      "text/latex": [
       "9337"
      ],
      "text/markdown": [
       "9337"
      ],
      "text/plain": [
       "[1] 9337"
      ]
     },
     "metadata": {},
     "output_type": "display_data"
    }
   ],
   "source": [
    "dirNames = list.files(path = paste(spamPath, \n",
    "                      sep = .Platform$file.sep))\n",
    "length(list.files(paste(spamPath, dirNames, \n",
    "                        sep = .Platform$file.sep)))"
   ]
  },
  {
   "cell_type": "code",
   "execution_count": 8,
   "metadata": {},
   "outputs": [
    {
     "data": {
      "text/html": [
       "<dl class=dl-horizontal>\n",
       "\t<dt>SpamAssassinMessages/easy_ham</dt>\n",
       "\t\t<dd>5032</dd>\n",
       "\t<dt>SpamAssassinMessages/easy_ham_2</dt>\n",
       "\t\t<dd>1402</dd>\n",
       "\t<dt>SpamAssassinMessages/hard_ham</dt>\n",
       "\t\t<dd>502</dd>\n",
       "\t<dt>SpamAssassinMessages/Icon\r",
       "</dt>\n",
       "\t\t<dd>0</dd>\n",
       "\t<dt>SpamAssassinMessages/spam</dt>\n",
       "\t\t<dd>1002</dd>\n",
       "\t<dt>SpamAssassinMessages/spam_2</dt>\n",
       "\t\t<dd>1399</dd>\n",
       "</dl>\n"
      ],
      "text/latex": [
       "\\begin{description*}\n",
       "\\item[SpamAssassinMessages/easy\\textbackslash{}\\_ham] 5032\n",
       "\\item[SpamAssassinMessages/easy\\textbackslash{}\\_ham\\textbackslash{}\\_2] 1402\n",
       "\\item[SpamAssassinMessages/hard\\textbackslash{}\\_ham] 502\n",
       "\\item[SpamAssassinMessages/Icon\r",
       "] 0\n",
       "\\item[SpamAssassinMessages/spam] 1002\n",
       "\\item[SpamAssassinMessages/spam\\textbackslash{}\\_2] 1399\n",
       "\\end{description*}\n"
      ],
      "text/markdown": [
       "SpamAssassinMessages/easy_ham\n",
       ":   5032SpamAssassinMessages/easy_ham_2\n",
       ":   1402SpamAssassinMessages/hard_ham\n",
       ":   502SpamAssassinMessages/Icon\r\n",
       ":   0SpamAssassinMessages/spam\n",
       ":   1002SpamAssassinMessages/spam_2\n",
       ":   1399\n",
       "\n"
      ],
      "text/plain": [
       "  SpamAssassinMessages/easy_ham SpamAssassinMessages/easy_ham_2 \n",
       "                           5032                            1402 \n",
       "  SpamAssassinMessages/hard_ham     SpamAssassinMessages/Icon\\r \n",
       "                            502                               0 \n",
       "      SpamAssassinMessages/spam     SpamAssassinMessages/spam_2 \n",
       "                           1002                            1399 "
      ]
     },
     "metadata": {},
     "output_type": "display_data"
    }
   ],
   "source": [
    "sapply(paste(spamPath, dirNames, \n",
    "             sep = .Platform$file.sep), \n",
    "       function(dir) length(list.files(dir)) )\n"
   ]
  },
  {
   "cell_type": "code",
   "execution_count": 9,
   "metadata": {},
   "outputs": [],
   "source": [
    "fullDirNames = paste(spamPath, dirNames, \n",
    "                     sep = .Platform$file.sep)"
   ]
  },
  {
   "cell_type": "code",
   "execution_count": 10,
   "metadata": {},
   "outputs": [
    {
     "data": {
      "text/html": [
       "'SpamAssassinMessages/easy_ham/00001.7c53336b37003a9286aba55d2945844c'"
      ],
      "text/latex": [
       "'SpamAssassinMessages/easy\\_ham/00001.7c53336b37003a9286aba55d2945844c'"
      ],
      "text/markdown": [
       "'SpamAssassinMessages/easy_ham/00001.7c53336b37003a9286aba55d2945844c'"
      ],
      "text/plain": [
       "[1] \"SpamAssassinMessages/easy_ham/00001.7c53336b37003a9286aba55d2945844c\""
      ]
     },
     "metadata": {},
     "output_type": "display_data"
    }
   ],
   "source": [
    "fileNames = list.files(fullDirNames[1], full.names = TRUE)\n",
    "fileNames[1]"
   ]
  },
  {
   "cell_type": "code",
   "execution_count": 11,
   "metadata": {},
   "outputs": [],
   "source": [
    "msg = readLines(fileNames[1])"
   ]
  },
  {
   "cell_type": "code",
   "execution_count": 12,
   "metadata": {},
   "outputs": [
    {
     "data": {
      "text/html": [
       "<ol class=list-inline>\n",
       "\t<li><span style=white-space:pre-wrap>'From exmh-workers-admin@redhat.com  Thu Aug 22 12:36:23 2002'</span></li>\n",
       "\t<li>'Return-Path: &lt;exmh-workers-admin@spamassassin.taint.org&gt;'</li>\n",
       "\t<li>'Delivered-To: zzzz@localhost.netnoteinc.com'</li>\n",
       "\t<li>'Received: from localhost (localhost [127.0.0.1])'</li>\n",
       "\t<li>'\\tby phobos.labs.netnoteinc.com (Postfix) with ESMTP id D03E543C36'</li>\n",
       "\t<li>'\\tfor &lt;zzzz@localhost&gt;; Thu, 22 Aug 2002 07:36:16 -0400 (EDT)'</li>\n",
       "</ol>\n"
      ],
      "text/latex": [
       "\\begin{enumerate*}\n",
       "\\item 'From exmh-workers-admin@redhat.com  Thu Aug 22 12:36:23 2002'\n",
       "\\item 'Return-Path: <exmh-workers-admin@spamassassin.taint.org>'\n",
       "\\item 'Delivered-To: zzzz@localhost.netnoteinc.com'\n",
       "\\item 'Received: from localhost (localhost {[}127.0.0.1{]})'\n",
       "\\item '\\textbackslash{}tby phobos.labs.netnoteinc.com (Postfix) with ESMTP id D03E543C36'\n",
       "\\item '\\textbackslash{}tfor <zzzz@localhost>; Thu, 22 Aug 2002 07:36:16 -0400 (EDT)'\n",
       "\\end{enumerate*}\n"
      ],
      "text/markdown": [
       "1. <span style=white-space:pre-wrap>'From exmh-workers-admin@redhat.com  Thu Aug 22 12:36:23 2002'</span>\n",
       "2. 'Return-Path: &lt;exmh-workers-admin@spamassassin.taint.org&gt;'\n",
       "3. 'Delivered-To: zzzz@localhost.netnoteinc.com'\n",
       "4. 'Received: from localhost (localhost [127.0.0.1])'\n",
       "5. '\\tby phobos.labs.netnoteinc.com (Postfix) with ESMTP id D03E543C36'\n",
       "6. '\\tfor &lt;zzzz@localhost&gt;; Thu, 22 Aug 2002 07:36:16 -0400 (EDT)'\n",
       "\n",
       "\n"
      ],
      "text/plain": [
       "[1] \"From exmh-workers-admin@redhat.com  Thu Aug 22 12:36:23 2002\"      \n",
       "[2] \"Return-Path: <exmh-workers-admin@spamassassin.taint.org>\"          \n",
       "[3] \"Delivered-To: zzzz@localhost.netnoteinc.com\"                       \n",
       "[4] \"Received: from localhost (localhost [127.0.0.1])\"                  \n",
       "[5] \"\\tby phobos.labs.netnoteinc.com (Postfix) with ESMTP id D03E543C36\"\n",
       "[6] \"\\tfor <zzzz@localhost>; Thu, 22 Aug 2002 07:36:16 -0400 (EDT)\"     "
      ]
     },
     "metadata": {},
     "output_type": "display_data"
    }
   ],
   "source": [
    "head(msg)"
   ]
  },
  {
   "cell_type": "code",
   "execution_count": 13,
   "metadata": {},
   "outputs": [],
   "source": [
    "indx = c(1:5, 15, 27, 68, 69, 329, 404, 427, 516, 852, 971)\n",
    "fn = list.files(fullDirNames[1], full.names = TRUE)[indx]\n",
    "sampleEmail = sapply(fn, readLines)    "
   ]
  },
  {
   "cell_type": "code",
   "execution_count": 14,
   "metadata": {},
   "outputs": [
    {
     "data": {
      "text/html": [
       "63"
      ],
      "text/latex": [
       "63"
      ],
      "text/markdown": [
       "63"
      ],
      "text/plain": [
       "[1] 63"
      ]
     },
     "metadata": {},
     "output_type": "display_data"
    }
   ],
   "source": [
    "msg = sampleEmail[[1]]\n",
    "which(msg == \"\")[1]"
   ]
  },
  {
   "cell_type": "code",
   "execution_count": 15,
   "metadata": {},
   "outputs": [
    {
     "data": {
      "text/html": [
       "63"
      ],
      "text/latex": [
       "63"
      ],
      "text/markdown": [
       "63"
      ],
      "text/plain": [
       "[1] 63"
      ]
     },
     "metadata": {},
     "output_type": "display_data"
    }
   ],
   "source": [
    "match(\"\", msg)"
   ]
  },
  {
   "cell_type": "code",
   "execution_count": 16,
   "metadata": {},
   "outputs": [],
   "source": [
    "splitPoint = match(\"\", msg)\n"
   ]
  },
  {
   "cell_type": "code",
   "execution_count": 17,
   "metadata": {},
   "outputs": [
    {
     "data": {
      "text/html": [
       "<ol class=list-inline>\n",
       "\t<li>'List-Archive: &lt;https://listman.spamassassin.taint.org/mailman/private/exmh-workers/&gt;'</li>\n",
       "\t<li>'Date: Thu, 22 Aug 2002 18:26:25 +0700'</li>\n",
       "\t<li>''</li>\n",
       "\t<li><span style=white-space:pre-wrap>'    Date:        Wed, 21 Aug 2002 10:54:46 -0500'</span></li>\n",
       "\t<li><span style=white-space:pre-wrap>'    From:        Chris Garrigues &lt;cwg-dated-1030377287.06fa6d@DeepEddy.Com&gt;'</span></li>\n",
       "\t<li><span style=white-space:pre-wrap>'    Message-ID:  &lt;1029945287.4797.TMDA@deepeddy.vircio.com&gt;'</span></li>\n",
       "\t<li>''</li>\n",
       "\t<li>''</li>\n",
       "\t<li><span style=white-space:pre-wrap>'  | I can\\'t reproduce this error.'</span></li>\n",
       "</ol>\n"
      ],
      "text/latex": [
       "\\begin{enumerate*}\n",
       "\\item 'List-Archive: <https://listman.spamassassin.taint.org/mailman/private/exmh-workers/>'\n",
       "\\item 'Date: Thu, 22 Aug 2002 18:26:25 +0700'\n",
       "\\item ''\n",
       "\\item '    Date:        Wed, 21 Aug 2002 10:54:46 -0500'\n",
       "\\item '    From:        Chris Garrigues <cwg-dated-1030377287.06fa6d@DeepEddy.Com>'\n",
       "\\item '    Message-ID:  <1029945287.4797.TMDA@deepeddy.vircio.com>'\n",
       "\\item ''\n",
       "\\item ''\n",
       "\\item '  \\textbar{} I can\\textbackslash{}'t reproduce this error.'\n",
       "\\end{enumerate*}\n"
      ],
      "text/markdown": [
       "1. 'List-Archive: &lt;https://listman.spamassassin.taint.org/mailman/private/exmh-workers/&gt;'\n",
       "2. 'Date: Thu, 22 Aug 2002 18:26:25 +0700'\n",
       "3. ''\n",
       "4. <span style=white-space:pre-wrap>'    Date:        Wed, 21 Aug 2002 10:54:46 -0500'</span>\n",
       "5. <span style=white-space:pre-wrap>'    From:        Chris Garrigues &lt;cwg-dated-1030377287.06fa6d@DeepEddy.Com&gt;'</span>\n",
       "6. <span style=white-space:pre-wrap>'    Message-ID:  &lt;1029945287.4797.TMDA@deepeddy.vircio.com&gt;'</span>\n",
       "7. ''\n",
       "8. ''\n",
       "9. <span style=white-space:pre-wrap>'  | I can\\'t reproduce this error.'</span>\n",
       "\n",
       "\n"
      ],
      "text/plain": [
       "[1] \"List-Archive: <https://listman.spamassassin.taint.org/mailman/private/exmh-workers/>\"\n",
       "[2] \"Date: Thu, 22 Aug 2002 18:26:25 +0700\"                                               \n",
       "[3] \"\"                                                                                    \n",
       "[4] \"    Date:        Wed, 21 Aug 2002 10:54:46 -0500\"                                    \n",
       "[5] \"    From:        Chris Garrigues <cwg-dated-1030377287.06fa6d@DeepEddy.Com>\"         \n",
       "[6] \"    Message-ID:  <1029945287.4797.TMDA@deepeddy.vircio.com>\"                         \n",
       "[7] \"\"                                                                                    \n",
       "[8] \"\"                                                                                    \n",
       "[9] \"  | I can't reproduce this error.\"                                                   "
      ]
     },
     "metadata": {},
     "output_type": "display_data"
    }
   ],
   "source": [
    "msg[ (splitPoint - 2):(splitPoint + 6) ]"
   ]
  },
  {
   "cell_type": "code",
   "execution_count": 18,
   "metadata": {},
   "outputs": [],
   "source": [
    "header = msg[1:(splitPoint-1)]\n",
    "body = msg[ -(1:splitPoint) ]"
   ]
  },
  {
   "cell_type": "code",
   "execution_count": 19,
   "metadata": {},
   "outputs": [],
   "source": [
    "splitMessage = function(msg) {\n",
    "  splitPoint = match(\"\", msg)\n",
    "  header = msg[1:(splitPoint-1)]\n",
    "  body = msg[ -(1:splitPoint) ]\n",
    "  return(list(header = header, body = body))\n",
    "}"
   ]
  },
  {
   "cell_type": "code",
   "execution_count": 20,
   "metadata": {},
   "outputs": [],
   "source": [
    "sampleSplit = lapply(sampleEmail, splitMessage)"
   ]
  },
  {
   "cell_type": "code",
   "execution_count": 21,
   "metadata": {},
   "outputs": [
    {
     "data": {
      "text/html": [
       "46"
      ],
      "text/latex": [
       "46"
      ],
      "text/markdown": [
       "46"
      ],
      "text/plain": [
       "[1] 46"
      ]
     },
     "metadata": {},
     "output_type": "display_data"
    }
   ],
   "source": [
    "header = sampleSplit[[1]]$header\n",
    "grep(\"Content-Type\", header)"
   ]
  },
  {
   "cell_type": "code",
   "execution_count": 22,
   "metadata": {},
   "outputs": [
    {
     "data": {
      "text/html": [],
      "text/latex": [],
      "text/markdown": [],
      "text/plain": [
       "integer(0)"
      ]
     },
     "metadata": {},
     "output_type": "display_data"
    }
   ],
   "source": [
    "grep(\"multi\", tolower(header[46]))"
   ]
  },
  {
   "cell_type": "code",
   "execution_count": 23,
   "metadata": {},
   "outputs": [
    {
     "data": {
      "text/html": [
       "'Content-Type: text/plain; charset=us-ascii'"
      ],
      "text/latex": [
       "'Content-Type: text/plain; charset=us-ascii'"
      ],
      "text/markdown": [
       "'Content-Type: text/plain; charset=us-ascii'"
      ],
      "text/plain": [
       "[1] \"Content-Type: text/plain; charset=us-ascii\""
      ]
     },
     "metadata": {},
     "output_type": "display_data"
    }
   ],
   "source": [
    "header[46]"
   ]
  },
  {
   "cell_type": "code",
   "execution_count": 24,
   "metadata": {},
   "outputs": [
    {
     "data": {
      "text/html": [
       "<dl>\n",
       "\t<dt>$`SpamAssassinMessages/easy_ham/00001.7c53336b37003a9286aba55d2945844c`</dt>\n",
       "\t\t<dd>46</dd>\n",
       "\t<dt>$`SpamAssassinMessages/easy_ham/00002.9c4069e25e1ef370c078db7ee85ff9ac`</dt>\n",
       "\t\t<dd>45</dd>\n",
       "\t<dt>$`SpamAssassinMessages/easy_ham/00003.860e3c3cee1b42ead714c5c874fe25f7`</dt>\n",
       "\t\t<dd>42</dd>\n",
       "\t<dt>$`SpamAssassinMessages/easy_ham/00004.864220c5b6930b209cc287c361c99af1`</dt>\n",
       "\t\t<dd>30</dd>\n",
       "\t<dt>$`SpamAssassinMessages/easy_ham/00005.bf27cdeaf0b8c4647ecd61b1d09da613`</dt>\n",
       "\t\t<dd>44</dd>\n",
       "\t<dt>$`SpamAssassinMessages/easy_ham/00014.cb20e10b2bfcb8210a1c310798532a57`</dt>\n",
       "\t\t<dd>54</dd>\n",
       "\t<dt>$`SpamAssassinMessages/easy_ham/00025.d685245bdc4444f44fa091e6620b20b3`</dt>\n",
       "\t\t<dd></dd>\n",
       "\t<dt>$`SpamAssassinMessages/easy_ham/00062.009f5a1a8fa88f0b38299ad01562bb37`</dt>\n",
       "\t\t<dd>21</dd>\n",
       "\t<dt>$`SpamAssassinMessages/easy_ham/00063.0acbc484a73f0e0b727e06c100d8df7b`</dt>\n",
       "\t\t<dd>17</dd>\n",
       "\t<dt>$`SpamAssassinMessages/easy_ham/00302.9aa28800eefcb167ac80f4b6b1e939d6`</dt>\n",
       "\t\t<dd></dd>\n",
       "\t<dt>$`SpamAssassinMessages/easy_ham/00370.0a2e3b397565840b5c4e46d5c5700444`</dt>\n",
       "\t\t<dd>35</dd>\n",
       "\t<dt>$`SpamAssassinMessages/easy_ham/00391.57ff08c2830235fc1315c1745829d190`</dt>\n",
       "\t\t<dd></dd>\n",
       "\t<dt>$`SpamAssassinMessages/easy_ham/00472.32120f66ef86d03baf663889b0235d94`</dt>\n",
       "\t\t<dd>27</dd>\n",
       "\t<dt>$`SpamAssassinMessages/easy_ham/00778.d83af9d544ca2957ea6f326728ad004c`</dt>\n",
       "\t\t<dd></dd>\n",
       "\t<dt>$`SpamAssassinMessages/easy_ham/00887.07d5efdf4a700dc6d1a7926e0008e57f`</dt>\n",
       "\t\t<dd>32</dd>\n",
       "</dl>\n"
      ],
      "text/latex": [
       "\\begin{description}\n",
       "\\item[\\$`SpamAssassinMessages/easy\\_ham/00001.7c53336b37003a9286aba55d2945844c`] 46\n",
       "\\item[\\$`SpamAssassinMessages/easy\\_ham/00002.9c4069e25e1ef370c078db7ee85ff9ac`] 45\n",
       "\\item[\\$`SpamAssassinMessages/easy\\_ham/00003.860e3c3cee1b42ead714c5c874fe25f7`] 42\n",
       "\\item[\\$`SpamAssassinMessages/easy\\_ham/00004.864220c5b6930b209cc287c361c99af1`] 30\n",
       "\\item[\\$`SpamAssassinMessages/easy\\_ham/00005.bf27cdeaf0b8c4647ecd61b1d09da613`] 44\n",
       "\\item[\\$`SpamAssassinMessages/easy\\_ham/00014.cb20e10b2bfcb8210a1c310798532a57`] 54\n",
       "\\item[\\$`SpamAssassinMessages/easy\\_ham/00025.d685245bdc4444f44fa091e6620b20b3`] \n",
       "\\item[\\$`SpamAssassinMessages/easy\\_ham/00062.009f5a1a8fa88f0b38299ad01562bb37`] 21\n",
       "\\item[\\$`SpamAssassinMessages/easy\\_ham/00063.0acbc484a73f0e0b727e06c100d8df7b`] 17\n",
       "\\item[\\$`SpamAssassinMessages/easy\\_ham/00302.9aa28800eefcb167ac80f4b6b1e939d6`] \n",
       "\\item[\\$`SpamAssassinMessages/easy\\_ham/00370.0a2e3b397565840b5c4e46d5c5700444`] 35\n",
       "\\item[\\$`SpamAssassinMessages/easy\\_ham/00391.57ff08c2830235fc1315c1745829d190`] \n",
       "\\item[\\$`SpamAssassinMessages/easy\\_ham/00472.32120f66ef86d03baf663889b0235d94`] 27\n",
       "\\item[\\$`SpamAssassinMessages/easy\\_ham/00778.d83af9d544ca2957ea6f326728ad004c`] \n",
       "\\item[\\$`SpamAssassinMessages/easy\\_ham/00887.07d5efdf4a700dc6d1a7926e0008e57f`] 32\n",
       "\\end{description}\n"
      ],
      "text/markdown": [
       "$`SpamAssassinMessages/easy_ham/00001.7c53336b37003a9286aba55d2945844c`\n",
       ":   46\n",
       "$`SpamAssassinMessages/easy_ham/00002.9c4069e25e1ef370c078db7ee85ff9ac`\n",
       ":   45\n",
       "$`SpamAssassinMessages/easy_ham/00003.860e3c3cee1b42ead714c5c874fe25f7`\n",
       ":   42\n",
       "$`SpamAssassinMessages/easy_ham/00004.864220c5b6930b209cc287c361c99af1`\n",
       ":   30\n",
       "$`SpamAssassinMessages/easy_ham/00005.bf27cdeaf0b8c4647ecd61b1d09da613`\n",
       ":   44\n",
       "$`SpamAssassinMessages/easy_ham/00014.cb20e10b2bfcb8210a1c310798532a57`\n",
       ":   54\n",
       "$`SpamAssassinMessages/easy_ham/00025.d685245bdc4444f44fa091e6620b20b3`\n",
       ":   \n",
       "$`SpamAssassinMessages/easy_ham/00062.009f5a1a8fa88f0b38299ad01562bb37`\n",
       ":   21\n",
       "$`SpamAssassinMessages/easy_ham/00063.0acbc484a73f0e0b727e06c100d8df7b`\n",
       ":   17\n",
       "$`SpamAssassinMessages/easy_ham/00302.9aa28800eefcb167ac80f4b6b1e939d6`\n",
       ":   \n",
       "$`SpamAssassinMessages/easy_ham/00370.0a2e3b397565840b5c4e46d5c5700444`\n",
       ":   35\n",
       "$`SpamAssassinMessages/easy_ham/00391.57ff08c2830235fc1315c1745829d190`\n",
       ":   \n",
       "$`SpamAssassinMessages/easy_ham/00472.32120f66ef86d03baf663889b0235d94`\n",
       ":   27\n",
       "$`SpamAssassinMessages/easy_ham/00778.d83af9d544ca2957ea6f326728ad004c`\n",
       ":   \n",
       "$`SpamAssassinMessages/easy_ham/00887.07d5efdf4a700dc6d1a7926e0008e57f`\n",
       ":   32\n",
       "\n",
       "\n"
      ],
      "text/plain": [
       "$`SpamAssassinMessages/easy_ham/00001.7c53336b37003a9286aba55d2945844c`\n",
       "[1] 46\n",
       "\n",
       "$`SpamAssassinMessages/easy_ham/00002.9c4069e25e1ef370c078db7ee85ff9ac`\n",
       "[1] 45\n",
       "\n",
       "$`SpamAssassinMessages/easy_ham/00003.860e3c3cee1b42ead714c5c874fe25f7`\n",
       "[1] 42\n",
       "\n",
       "$`SpamAssassinMessages/easy_ham/00004.864220c5b6930b209cc287c361c99af1`\n",
       "[1] 30\n",
       "\n",
       "$`SpamAssassinMessages/easy_ham/00005.bf27cdeaf0b8c4647ecd61b1d09da613`\n",
       "[1] 44\n",
       "\n",
       "$`SpamAssassinMessages/easy_ham/00014.cb20e10b2bfcb8210a1c310798532a57`\n",
       "[1] 54\n",
       "\n",
       "$`SpamAssassinMessages/easy_ham/00025.d685245bdc4444f44fa091e6620b20b3`\n",
       "integer(0)\n",
       "\n",
       "$`SpamAssassinMessages/easy_ham/00062.009f5a1a8fa88f0b38299ad01562bb37`\n",
       "[1] 21\n",
       "\n",
       "$`SpamAssassinMessages/easy_ham/00063.0acbc484a73f0e0b727e06c100d8df7b`\n",
       "[1] 17\n",
       "\n",
       "$`SpamAssassinMessages/easy_ham/00302.9aa28800eefcb167ac80f4b6b1e939d6`\n",
       "integer(0)\n",
       "\n",
       "$`SpamAssassinMessages/easy_ham/00370.0a2e3b397565840b5c4e46d5c5700444`\n",
       "[1] 35\n",
       "\n",
       "$`SpamAssassinMessages/easy_ham/00391.57ff08c2830235fc1315c1745829d190`\n",
       "integer(0)\n",
       "\n",
       "$`SpamAssassinMessages/easy_ham/00472.32120f66ef86d03baf663889b0235d94`\n",
       "[1] 27\n",
       "\n",
       "$`SpamAssassinMessages/easy_ham/00778.d83af9d544ca2957ea6f326728ad004c`\n",
       "integer(0)\n",
       "\n",
       "$`SpamAssassinMessages/easy_ham/00887.07d5efdf4a700dc6d1a7926e0008e57f`\n",
       "[1] 32\n"
      ]
     },
     "metadata": {},
     "output_type": "display_data"
    }
   ],
   "source": [
    "headerList = lapply(sampleSplit, function(msg) msg$header)\n",
    "CTloc = sapply(headerList, grep, pattern = \"Content-Type\")\n",
    "CTloc"
   ]
  },
  {
   "cell_type": "code",
   "execution_count": 25,
   "metadata": {},
   "outputs": [
    {
     "data": {
      "text/html": [
       "<dl class=dl-horizontal>\n",
       "\t<dt>SpamAssassinMessages/easy_ham/00001.7c53336b37003a9286aba55d2945844c</dt>\n",
       "\t\t<dd>46</dd>\n",
       "\t<dt>SpamAssassinMessages/easy_ham/00002.9c4069e25e1ef370c078db7ee85ff9ac</dt>\n",
       "\t\t<dd>45</dd>\n",
       "\t<dt>SpamAssassinMessages/easy_ham/00003.860e3c3cee1b42ead714c5c874fe25f7</dt>\n",
       "\t\t<dd>42</dd>\n",
       "\t<dt>SpamAssassinMessages/easy_ham/00004.864220c5b6930b209cc287c361c99af1</dt>\n",
       "\t\t<dd>30</dd>\n",
       "\t<dt>SpamAssassinMessages/easy_ham/00005.bf27cdeaf0b8c4647ecd61b1d09da613</dt>\n",
       "\t\t<dd>44</dd>\n",
       "\t<dt>SpamAssassinMessages/easy_ham/00014.cb20e10b2bfcb8210a1c310798532a57</dt>\n",
       "\t\t<dd>54</dd>\n",
       "\t<dt>SpamAssassinMessages/easy_ham/00025.d685245bdc4444f44fa091e6620b20b3</dt>\n",
       "\t\t<dd>&lt;NA&gt;</dd>\n",
       "\t<dt>SpamAssassinMessages/easy_ham/00062.009f5a1a8fa88f0b38299ad01562bb37</dt>\n",
       "\t\t<dd>21</dd>\n",
       "\t<dt>SpamAssassinMessages/easy_ham/00063.0acbc484a73f0e0b727e06c100d8df7b</dt>\n",
       "\t\t<dd>17</dd>\n",
       "\t<dt>SpamAssassinMessages/easy_ham/00302.9aa28800eefcb167ac80f4b6b1e939d6</dt>\n",
       "\t\t<dd>&lt;NA&gt;</dd>\n",
       "\t<dt>SpamAssassinMessages/easy_ham/00370.0a2e3b397565840b5c4e46d5c5700444</dt>\n",
       "\t\t<dd>35</dd>\n",
       "\t<dt>SpamAssassinMessages/easy_ham/00391.57ff08c2830235fc1315c1745829d190</dt>\n",
       "\t\t<dd>&lt;NA&gt;</dd>\n",
       "\t<dt>SpamAssassinMessages/easy_ham/00472.32120f66ef86d03baf663889b0235d94</dt>\n",
       "\t\t<dd>27</dd>\n",
       "\t<dt>SpamAssassinMessages/easy_ham/00778.d83af9d544ca2957ea6f326728ad004c</dt>\n",
       "\t\t<dd>&lt;NA&gt;</dd>\n",
       "\t<dt>SpamAssassinMessages/easy_ham/00887.07d5efdf4a700dc6d1a7926e0008e57f</dt>\n",
       "\t\t<dd>32</dd>\n",
       "</dl>\n"
      ],
      "text/latex": [
       "\\begin{description*}\n",
       "\\item[SpamAssassinMessages/easy\\textbackslash{}\\_ham/00001.7c53336b37003a9286aba55d2945844c] 46\n",
       "\\item[SpamAssassinMessages/easy\\textbackslash{}\\_ham/00002.9c4069e25e1ef370c078db7ee85ff9ac] 45\n",
       "\\item[SpamAssassinMessages/easy\\textbackslash{}\\_ham/00003.860e3c3cee1b42ead714c5c874fe25f7] 42\n",
       "\\item[SpamAssassinMessages/easy\\textbackslash{}\\_ham/00004.864220c5b6930b209cc287c361c99af1] 30\n",
       "\\item[SpamAssassinMessages/easy\\textbackslash{}\\_ham/00005.bf27cdeaf0b8c4647ecd61b1d09da613] 44\n",
       "\\item[SpamAssassinMessages/easy\\textbackslash{}\\_ham/00014.cb20e10b2bfcb8210a1c310798532a57] 54\n",
       "\\item[SpamAssassinMessages/easy\\textbackslash{}\\_ham/00025.d685245bdc4444f44fa091e6620b20b3] <NA>\n",
       "\\item[SpamAssassinMessages/easy\\textbackslash{}\\_ham/00062.009f5a1a8fa88f0b38299ad01562bb37] 21\n",
       "\\item[SpamAssassinMessages/easy\\textbackslash{}\\_ham/00063.0acbc484a73f0e0b727e06c100d8df7b] 17\n",
       "\\item[SpamAssassinMessages/easy\\textbackslash{}\\_ham/00302.9aa28800eefcb167ac80f4b6b1e939d6] <NA>\n",
       "\\item[SpamAssassinMessages/easy\\textbackslash{}\\_ham/00370.0a2e3b397565840b5c4e46d5c5700444] 35\n",
       "\\item[SpamAssassinMessages/easy\\textbackslash{}\\_ham/00391.57ff08c2830235fc1315c1745829d190] <NA>\n",
       "\\item[SpamAssassinMessages/easy\\textbackslash{}\\_ham/00472.32120f66ef86d03baf663889b0235d94] 27\n",
       "\\item[SpamAssassinMessages/easy\\textbackslash{}\\_ham/00778.d83af9d544ca2957ea6f326728ad004c] <NA>\n",
       "\\item[SpamAssassinMessages/easy\\textbackslash{}\\_ham/00887.07d5efdf4a700dc6d1a7926e0008e57f] 32\n",
       "\\end{description*}\n"
      ],
      "text/markdown": [
       "SpamAssassinMessages/easy_ham/00001.7c53336b37003a9286aba55d2945844c\n",
       ":   46SpamAssassinMessages/easy_ham/00002.9c4069e25e1ef370c078db7ee85ff9ac\n",
       ":   45SpamAssassinMessages/easy_ham/00003.860e3c3cee1b42ead714c5c874fe25f7\n",
       ":   42SpamAssassinMessages/easy_ham/00004.864220c5b6930b209cc287c361c99af1\n",
       ":   30SpamAssassinMessages/easy_ham/00005.bf27cdeaf0b8c4647ecd61b1d09da613\n",
       ":   44SpamAssassinMessages/easy_ham/00014.cb20e10b2bfcb8210a1c310798532a57\n",
       ":   54SpamAssassinMessages/easy_ham/00025.d685245bdc4444f44fa091e6620b20b3\n",
       ":   &lt;NA&gt;SpamAssassinMessages/easy_ham/00062.009f5a1a8fa88f0b38299ad01562bb37\n",
       ":   21SpamAssassinMessages/easy_ham/00063.0acbc484a73f0e0b727e06c100d8df7b\n",
       ":   17SpamAssassinMessages/easy_ham/00302.9aa28800eefcb167ac80f4b6b1e939d6\n",
       ":   &lt;NA&gt;SpamAssassinMessages/easy_ham/00370.0a2e3b397565840b5c4e46d5c5700444\n",
       ":   35SpamAssassinMessages/easy_ham/00391.57ff08c2830235fc1315c1745829d190\n",
       ":   &lt;NA&gt;SpamAssassinMessages/easy_ham/00472.32120f66ef86d03baf663889b0235d94\n",
       ":   27SpamAssassinMessages/easy_ham/00778.d83af9d544ca2957ea6f326728ad004c\n",
       ":   &lt;NA&gt;SpamAssassinMessages/easy_ham/00887.07d5efdf4a700dc6d1a7926e0008e57f\n",
       ":   32\n",
       "\n"
      ],
      "text/plain": [
       "SpamAssassinMessages/easy_ham/00001.7c53336b37003a9286aba55d2945844c \n",
       "                                                                  46 \n",
       "SpamAssassinMessages/easy_ham/00002.9c4069e25e1ef370c078db7ee85ff9ac \n",
       "                                                                  45 \n",
       "SpamAssassinMessages/easy_ham/00003.860e3c3cee1b42ead714c5c874fe25f7 \n",
       "                                                                  42 \n",
       "SpamAssassinMessages/easy_ham/00004.864220c5b6930b209cc287c361c99af1 \n",
       "                                                                  30 \n",
       "SpamAssassinMessages/easy_ham/00005.bf27cdeaf0b8c4647ecd61b1d09da613 \n",
       "                                                                  44 \n",
       "SpamAssassinMessages/easy_ham/00014.cb20e10b2bfcb8210a1c310798532a57 \n",
       "                                                                  54 \n",
       "SpamAssassinMessages/easy_ham/00025.d685245bdc4444f44fa091e6620b20b3 \n",
       "                                                                  NA \n",
       "SpamAssassinMessages/easy_ham/00062.009f5a1a8fa88f0b38299ad01562bb37 \n",
       "                                                                  21 \n",
       "SpamAssassinMessages/easy_ham/00063.0acbc484a73f0e0b727e06c100d8df7b \n",
       "                                                                  17 \n",
       "SpamAssassinMessages/easy_ham/00302.9aa28800eefcb167ac80f4b6b1e939d6 \n",
       "                                                                  NA \n",
       "SpamAssassinMessages/easy_ham/00370.0a2e3b397565840b5c4e46d5c5700444 \n",
       "                                                                  35 \n",
       "SpamAssassinMessages/easy_ham/00391.57ff08c2830235fc1315c1745829d190 \n",
       "                                                                  NA \n",
       "SpamAssassinMessages/easy_ham/00472.32120f66ef86d03baf663889b0235d94 \n",
       "                                                                  27 \n",
       "SpamAssassinMessages/easy_ham/00778.d83af9d544ca2957ea6f326728ad004c \n",
       "                                                                  NA \n",
       "SpamAssassinMessages/easy_ham/00887.07d5efdf4a700dc6d1a7926e0008e57f \n",
       "                                                                  32 "
      ]
     },
     "metadata": {},
     "output_type": "display_data"
    }
   ],
   "source": [
    "sapply(headerList, function(header) {\n",
    "                       CTloc = grep(\"Content-Type\", header)\n",
    "                       if (length(CTloc) == 0) return(NA)\n",
    "                       CTloc\n",
    "                   })"
   ]
  },
  {
   "cell_type": "code",
   "execution_count": 26,
   "metadata": {},
   "outputs": [],
   "source": [
    "hasAttach = sapply(headerList, function(header) {\n",
    "  CTloc = grep(\"Content-Type\", header)\n",
    "  if (length(CTloc) == 0) return(FALSE)\n",
    "  grepl(\"multi\", tolower(header[CTloc])) \n",
    "})"
   ]
  },
  {
   "cell_type": "code",
   "execution_count": 27,
   "metadata": {},
   "outputs": [
    {
     "data": {
      "text/html": [
       "<dl class=dl-horizontal>\n",
       "\t<dt>SpamAssassinMessages/easy_ham/00001.7c53336b37003a9286aba55d2945844c</dt>\n",
       "\t\t<dd>FALSE</dd>\n",
       "\t<dt>SpamAssassinMessages/easy_ham/00002.9c4069e25e1ef370c078db7ee85ff9ac</dt>\n",
       "\t\t<dd>FALSE</dd>\n",
       "\t<dt>SpamAssassinMessages/easy_ham/00003.860e3c3cee1b42ead714c5c874fe25f7</dt>\n",
       "\t\t<dd>FALSE</dd>\n",
       "\t<dt>SpamAssassinMessages/easy_ham/00004.864220c5b6930b209cc287c361c99af1</dt>\n",
       "\t\t<dd>FALSE</dd>\n",
       "\t<dt>SpamAssassinMessages/easy_ham/00005.bf27cdeaf0b8c4647ecd61b1d09da613</dt>\n",
       "\t\t<dd>FALSE</dd>\n",
       "\t<dt>SpamAssassinMessages/easy_ham/00014.cb20e10b2bfcb8210a1c310798532a57</dt>\n",
       "\t\t<dd>TRUE</dd>\n",
       "\t<dt>SpamAssassinMessages/easy_ham/00025.d685245bdc4444f44fa091e6620b20b3</dt>\n",
       "\t\t<dd>FALSE</dd>\n",
       "\t<dt>SpamAssassinMessages/easy_ham/00062.009f5a1a8fa88f0b38299ad01562bb37</dt>\n",
       "\t\t<dd>TRUE</dd>\n",
       "\t<dt>SpamAssassinMessages/easy_ham/00063.0acbc484a73f0e0b727e06c100d8df7b</dt>\n",
       "\t\t<dd>TRUE</dd>\n",
       "\t<dt>SpamAssassinMessages/easy_ham/00302.9aa28800eefcb167ac80f4b6b1e939d6</dt>\n",
       "\t\t<dd>FALSE</dd>\n",
       "\t<dt>SpamAssassinMessages/easy_ham/00370.0a2e3b397565840b5c4e46d5c5700444</dt>\n",
       "\t\t<dd>FALSE</dd>\n",
       "\t<dt>SpamAssassinMessages/easy_ham/00391.57ff08c2830235fc1315c1745829d190</dt>\n",
       "\t\t<dd>FALSE</dd>\n",
       "\t<dt>SpamAssassinMessages/easy_ham/00472.32120f66ef86d03baf663889b0235d94</dt>\n",
       "\t\t<dd>FALSE</dd>\n",
       "\t<dt>SpamAssassinMessages/easy_ham/00778.d83af9d544ca2957ea6f326728ad004c</dt>\n",
       "\t\t<dd>FALSE</dd>\n",
       "\t<dt>SpamAssassinMessages/easy_ham/00887.07d5efdf4a700dc6d1a7926e0008e57f</dt>\n",
       "\t\t<dd>FALSE</dd>\n",
       "</dl>\n"
      ],
      "text/latex": [
       "\\begin{description*}\n",
       "\\item[SpamAssassinMessages/easy\\textbackslash{}\\_ham/00001.7c53336b37003a9286aba55d2945844c] FALSE\n",
       "\\item[SpamAssassinMessages/easy\\textbackslash{}\\_ham/00002.9c4069e25e1ef370c078db7ee85ff9ac] FALSE\n",
       "\\item[SpamAssassinMessages/easy\\textbackslash{}\\_ham/00003.860e3c3cee1b42ead714c5c874fe25f7] FALSE\n",
       "\\item[SpamAssassinMessages/easy\\textbackslash{}\\_ham/00004.864220c5b6930b209cc287c361c99af1] FALSE\n",
       "\\item[SpamAssassinMessages/easy\\textbackslash{}\\_ham/00005.bf27cdeaf0b8c4647ecd61b1d09da613] FALSE\n",
       "\\item[SpamAssassinMessages/easy\\textbackslash{}\\_ham/00014.cb20e10b2bfcb8210a1c310798532a57] TRUE\n",
       "\\item[SpamAssassinMessages/easy\\textbackslash{}\\_ham/00025.d685245bdc4444f44fa091e6620b20b3] FALSE\n",
       "\\item[SpamAssassinMessages/easy\\textbackslash{}\\_ham/00062.009f5a1a8fa88f0b38299ad01562bb37] TRUE\n",
       "\\item[SpamAssassinMessages/easy\\textbackslash{}\\_ham/00063.0acbc484a73f0e0b727e06c100d8df7b] TRUE\n",
       "\\item[SpamAssassinMessages/easy\\textbackslash{}\\_ham/00302.9aa28800eefcb167ac80f4b6b1e939d6] FALSE\n",
       "\\item[SpamAssassinMessages/easy\\textbackslash{}\\_ham/00370.0a2e3b397565840b5c4e46d5c5700444] FALSE\n",
       "\\item[SpamAssassinMessages/easy\\textbackslash{}\\_ham/00391.57ff08c2830235fc1315c1745829d190] FALSE\n",
       "\\item[SpamAssassinMessages/easy\\textbackslash{}\\_ham/00472.32120f66ef86d03baf663889b0235d94] FALSE\n",
       "\\item[SpamAssassinMessages/easy\\textbackslash{}\\_ham/00778.d83af9d544ca2957ea6f326728ad004c] FALSE\n",
       "\\item[SpamAssassinMessages/easy\\textbackslash{}\\_ham/00887.07d5efdf4a700dc6d1a7926e0008e57f] FALSE\n",
       "\\end{description*}\n"
      ],
      "text/markdown": [
       "SpamAssassinMessages/easy_ham/00001.7c53336b37003a9286aba55d2945844c\n",
       ":   FALSESpamAssassinMessages/easy_ham/00002.9c4069e25e1ef370c078db7ee85ff9ac\n",
       ":   FALSESpamAssassinMessages/easy_ham/00003.860e3c3cee1b42ead714c5c874fe25f7\n",
       ":   FALSESpamAssassinMessages/easy_ham/00004.864220c5b6930b209cc287c361c99af1\n",
       ":   FALSESpamAssassinMessages/easy_ham/00005.bf27cdeaf0b8c4647ecd61b1d09da613\n",
       ":   FALSESpamAssassinMessages/easy_ham/00014.cb20e10b2bfcb8210a1c310798532a57\n",
       ":   TRUESpamAssassinMessages/easy_ham/00025.d685245bdc4444f44fa091e6620b20b3\n",
       ":   FALSESpamAssassinMessages/easy_ham/00062.009f5a1a8fa88f0b38299ad01562bb37\n",
       ":   TRUESpamAssassinMessages/easy_ham/00063.0acbc484a73f0e0b727e06c100d8df7b\n",
       ":   TRUESpamAssassinMessages/easy_ham/00302.9aa28800eefcb167ac80f4b6b1e939d6\n",
       ":   FALSESpamAssassinMessages/easy_ham/00370.0a2e3b397565840b5c4e46d5c5700444\n",
       ":   FALSESpamAssassinMessages/easy_ham/00391.57ff08c2830235fc1315c1745829d190\n",
       ":   FALSESpamAssassinMessages/easy_ham/00472.32120f66ef86d03baf663889b0235d94\n",
       ":   FALSESpamAssassinMessages/easy_ham/00778.d83af9d544ca2957ea6f326728ad004c\n",
       ":   FALSESpamAssassinMessages/easy_ham/00887.07d5efdf4a700dc6d1a7926e0008e57f\n",
       ":   FALSE\n",
       "\n"
      ],
      "text/plain": [
       "SpamAssassinMessages/easy_ham/00001.7c53336b37003a9286aba55d2945844c \n",
       "                                                               FALSE \n",
       "SpamAssassinMessages/easy_ham/00002.9c4069e25e1ef370c078db7ee85ff9ac \n",
       "                                                               FALSE \n",
       "SpamAssassinMessages/easy_ham/00003.860e3c3cee1b42ead714c5c874fe25f7 \n",
       "                                                               FALSE \n",
       "SpamAssassinMessages/easy_ham/00004.864220c5b6930b209cc287c361c99af1 \n",
       "                                                               FALSE \n",
       "SpamAssassinMessages/easy_ham/00005.bf27cdeaf0b8c4647ecd61b1d09da613 \n",
       "                                                               FALSE \n",
       "SpamAssassinMessages/easy_ham/00014.cb20e10b2bfcb8210a1c310798532a57 \n",
       "                                                                TRUE \n",
       "SpamAssassinMessages/easy_ham/00025.d685245bdc4444f44fa091e6620b20b3 \n",
       "                                                               FALSE \n",
       "SpamAssassinMessages/easy_ham/00062.009f5a1a8fa88f0b38299ad01562bb37 \n",
       "                                                                TRUE \n",
       "SpamAssassinMessages/easy_ham/00063.0acbc484a73f0e0b727e06c100d8df7b \n",
       "                                                                TRUE \n",
       "SpamAssassinMessages/easy_ham/00302.9aa28800eefcb167ac80f4b6b1e939d6 \n",
       "                                                               FALSE \n",
       "SpamAssassinMessages/easy_ham/00370.0a2e3b397565840b5c4e46d5c5700444 \n",
       "                                                               FALSE \n",
       "SpamAssassinMessages/easy_ham/00391.57ff08c2830235fc1315c1745829d190 \n",
       "                                                               FALSE \n",
       "SpamAssassinMessages/easy_ham/00472.32120f66ef86d03baf663889b0235d94 \n",
       "                                                               FALSE \n",
       "SpamAssassinMessages/easy_ham/00778.d83af9d544ca2957ea6f326728ad004c \n",
       "                                                               FALSE \n",
       "SpamAssassinMessages/easy_ham/00887.07d5efdf4a700dc6d1a7926e0008e57f \n",
       "                                                               FALSE "
      ]
     },
     "metadata": {},
     "output_type": "display_data"
    }
   ],
   "source": [
    "hasAttach"
   ]
  },
  {
   "cell_type": "code",
   "execution_count": 28,
   "metadata": {},
   "outputs": [
    {
     "data": {
      "text/html": [
       "<span style=white-space:pre-wrap>'    boundary=\"==_Exmh_-1317289252P\";'</span>"
      ],
      "text/latex": [
       "'    boundary=\"==\\_Exmh\\_-1317289252P\";'"
      ],
      "text/markdown": [
       "<span style=white-space:pre-wrap>'    boundary=\"==_Exmh_-1317289252P\";'</span>"
      ],
      "text/plain": [
       "[1] \"    boundary=\\\"==_Exmh_-1317289252P\\\";\""
      ]
     },
     "metadata": {},
     "output_type": "display_data"
    }
   ],
   "source": [
    "header = sampleSplit[[6]]$header\n",
    "boundaryIdx = grep(\"boundary=\", header)\n",
    "header[boundaryIdx]"
   ]
  },
  {
   "cell_type": "code",
   "execution_count": 29,
   "metadata": {},
   "outputs": [
    {
     "data": {
      "text/html": [
       "'==_Exmh_-1317289252P'"
      ],
      "text/latex": [
       "'==\\_Exmh\\_-1317289252P'"
      ],
      "text/markdown": [
       "'==_Exmh_-1317289252P'"
      ],
      "text/plain": [
       "[1] \"==_Exmh_-1317289252P\""
      ]
     },
     "metadata": {},
     "output_type": "display_data"
    }
   ],
   "source": [
    "sub(\".*boundary=\\\"(.*)\\\";.*\", \"\\\\1\", header[boundaryIdx])"
   ]
  },
  {
   "cell_type": "code",
   "execution_count": 30,
   "metadata": {},
   "outputs": [
    {
     "data": {
      "text/html": [
       "'Content-Type: multipart/alternative; boundary=Apple-Mail-2-874629474'"
      ],
      "text/latex": [
       "'Content-Type: multipart/alternative; boundary=Apple-Mail-2-874629474'"
      ],
      "text/markdown": [
       "'Content-Type: multipart/alternative; boundary=Apple-Mail-2-874629474'"
      ],
      "text/plain": [
       "[1] \"Content-Type: multipart/alternative; boundary=Apple-Mail-2-874629474\""
      ]
     },
     "metadata": {},
     "output_type": "display_data"
    }
   ],
   "source": [
    "header2 = headerList[[9]]\n",
    "boundaryIdx2 = grep(\"boundary=\", header2)\n",
    "header2[boundaryIdx2]"
   ]
  },
  {
   "cell_type": "code",
   "execution_count": 31,
   "metadata": {},
   "outputs": [
    {
     "data": {
      "text/html": [
       "'Content-Type: multipart/alternative; boundary=Apple-Mail-2-874629474'"
      ],
      "text/latex": [
       "'Content-Type: multipart/alternative; boundary=Apple-Mail-2-874629474'"
      ],
      "text/markdown": [
       "'Content-Type: multipart/alternative; boundary=Apple-Mail-2-874629474'"
      ],
      "text/plain": [
       "[1] \"Content-Type: multipart/alternative; boundary=Apple-Mail-2-874629474\""
      ]
     },
     "metadata": {},
     "output_type": "display_data"
    }
   ],
   "source": [
    "sub('.*boundary=\"(.*)\";.*', \"\\\\1\", header2[boundaryIdx2])"
   ]
  },
  {
   "cell_type": "code",
   "execution_count": 32,
   "metadata": {},
   "outputs": [],
   "source": [
    "boundary2 = gsub('\"', \"\", header2[boundaryIdx2])"
   ]
  },
  {
   "cell_type": "code",
   "execution_count": 33,
   "metadata": {},
   "outputs": [
    {
     "data": {
      "text/html": [
       "'Apple-Mail-2-874629474'"
      ],
      "text/latex": [
       "'Apple-Mail-2-874629474'"
      ],
      "text/markdown": [
       "'Apple-Mail-2-874629474'"
      ],
      "text/plain": [
       "[1] \"Apple-Mail-2-874629474\""
      ]
     },
     "metadata": {},
     "output_type": "display_data"
    }
   ],
   "source": [
    "sub(\".*boundary= *(.*);?.*\", \"\\\\1\", boundary2)"
   ]
  },
  {
   "cell_type": "code",
   "execution_count": 34,
   "metadata": {},
   "outputs": [
    {
     "data": {
      "text/html": [
       "'==_Exmh_-1317289252P;'"
      ],
      "text/latex": [
       "'==\\_Exmh\\_-1317289252P;'"
      ],
      "text/markdown": [
       "'==_Exmh_-1317289252P;'"
      ],
      "text/plain": [
       "[1] \"==_Exmh_-1317289252P;\""
      ]
     },
     "metadata": {},
     "output_type": "display_data"
    }
   ],
   "source": [
    "boundary = gsub('\"', \"\", header[boundaryIdx])\n",
    "sub(\".*boundary= *(.*);?.*\", \"\\\\1\", boundary)"
   ]
  },
  {
   "cell_type": "code",
   "execution_count": 35,
   "metadata": {},
   "outputs": [
    {
     "data": {
      "text/html": [
       "'==_Exmh_-1317289252P'"
      ],
      "text/latex": [
       "'==\\_Exmh\\_-1317289252P'"
      ],
      "text/markdown": [
       "'==_Exmh_-1317289252P'"
      ],
      "text/plain": [
       "[1] \"==_Exmh_-1317289252P\""
      ]
     },
     "metadata": {},
     "output_type": "display_data"
    }
   ],
   "source": [
    "sub(\".*boundary= *([^;]*);?.*\", \"\\\\1\", boundary)"
   ]
  },
  {
   "cell_type": "code",
   "execution_count": 49,
   "metadata": {},
   "outputs": [],
   "source": [
    "getBoundary = function(header) {\n",
    "  boundaryIdx = grep(\"boundary=\", header)\n",
    "  boundary = gsub('\"', \"\", header[boundaryIdx])\n",
    "  gsub(\".*boundary= *([^;]*);?.*\", \"\\\\1\", boundary)\n",
    "}"
   ]
  },
  {
   "cell_type": "code",
   "execution_count": 50,
   "metadata": {},
   "outputs": [
    {
     "data": {
      "text/html": [
       "<ol class=list-inline>\n",
       "\t<li>'--==_Exmh_-1317289252P'</li>\n",
       "\t<li>'Content-Type: text/plain; charset=us-ascii'</li>\n",
       "\t<li>''</li>\n",
       "\t<li><span style=white-space:pre-wrap>'&gt; From:  Chris Garrigues &lt;cwg-exmh@DeepEddy.Com&gt;'</span></li>\n",
       "\t<li><span style=white-space:pre-wrap>'&gt; Date:  Wed, 21 Aug 2002 10:40:39 -0500'</span></li>\n",
       "\t<li>'&gt;'</li>\n",
       "\t<li><span style=white-space:pre-wrap>'&gt; &gt; From:  Chris Garrigues &lt;cwg-exmh@DeepEddy.Com&gt;'</span></li>\n",
       "\t<li><span style=white-space:pre-wrap>'&gt; &gt; Date:  Wed, 21 Aug 2002 10:17:45 -0500'</span></li>\n",
       "\t<li>'&gt; &gt;'</li>\n",
       "\t<li>'&gt; &gt; Ouch...I\\'ll get right on it.'</li>\n",
       "\t<li>'&gt; &gt; '</li>\n",
       "\t<li><span style=white-space:pre-wrap>'&gt; &gt; &gt; From:  Robert Elz &lt;kre@munnari.OZ.AU&gt;'</span></li>\n",
       "\t<li><span style=white-space:pre-wrap>'&gt; &gt; &gt; Date:  Wed, 21 Aug 2002 19:30:01 +0700'</span></li>\n",
       "\t<li>'&gt; &gt; &gt;'</li>\n",
       "\t<li><span style=white-space:pre-wrap>'&gt; &gt; &gt; Any chance of having that lengthen instead?   I like all my exmh stuff'</span></li>\n",
       "\t<li><span style=white-space:pre-wrap>'&gt; &gt; &gt; in nice columns (fits the display better).   That is, I use the detache'</span></li>\n",
       "\t<li>'&gt; d'</li>\n",
       "\t<li><span style=white-space:pre-wrap>'&gt; &gt; &gt; folder list, one column.   The main exmh window takes up full screen,'</span></li>\n",
       "\t<li>'&gt; &gt; &gt; top to bottom, but less than half the width, etc...'</li>\n",
       "\t<li>'&gt; '</li>\n",
       "\t<li><span style=white-space:pre-wrap>'&gt; I thought about that.  The first order approximation would be to just add '</span></li>\n",
       "\t<li>'&gt; using pack .... -side top instead of pack ... -side left, however, since their '</li>\n",
       "\t<li>'&gt; each a different width, it would look funny.'</li>\n",
       "\t<li>''</li>\n",
       "\t<li><span style=white-space:pre-wrap>'I\\'ve done this.  It\\'s not as pretty as I think it should be, but it works.  '</span></li>\n",
       "\t<li><span style=white-space:pre-wrap>'I\\'m going to leave the cosmetic issues to others.  When I update the '</span></li>\n",
       "\t<li>'documentation, I\\'ll add this to the exmh.TODO file.'</li>\n",
       "\t<li>''</li>\n",
       "\t<li>'I\\'m leaving for a 2 1/2 week vacation in a week, so this is the last new '</li>\n",
       "\t<li><span style=white-space:pre-wrap>'functionality I\\'m going to add for a while.  Also, I now have pretty much '</span></li>\n",
       "\t<li>'everything in there that I want for my own use, so I\\'m probably pretty much '</li>\n",
       "\t<li><span style=white-space:pre-wrap>'done.  I\\'ll work on bug fixes and documentation before my vacation, and '</span></li>\n",
       "\t<li>'hopefully do nothing more afterwards.'</li>\n",
       "\t<li>''</li>\n",
       "\t<li>'Chris'</li>\n",
       "\t<li>''</li>\n",
       "\t<li>'-- '</li>\n",
       "\t<li><span style=white-space:pre-wrap>'Chris Garrigues                 http://www.DeepEddy.Com/~cwg/'</span></li>\n",
       "\t<li><span style=white-space:pre-wrap>'virCIO                          http://www.virCIO.Com'</span></li>\n",
       "\t<li>'716 Congress, Suite 200'</li>\n",
       "\t<li><span style=white-space:pre-wrap>'Austin, TX  78701\\t\\t+1 512 374 0500'</span></li>\n",
       "\t<li>''</li>\n",
       "\t<li><span style=white-space:pre-wrap>'  World War III:  The Wrong-Doers Vs. the Evil-Doers.'</span></li>\n",
       "\t<li>''</li>\n",
       "\t<li>''</li>\n",
       "\t<li>''</li>\n",
       "\t<li>''</li>\n",
       "\t<li>'--==_Exmh_-1317289252P'</li>\n",
       "\t<li>'Content-Type: application/pgp-signature'</li>\n",
       "\t<li>''</li>\n",
       "\t<li>'-----BEGIN PGP SIGNATURE-----'</li>\n",
       "\t<li>'Version: GnuPG v1.0.6 (GNU/Linux)'</li>\n",
       "\t<li>'Comment: Exmh version 2.2_20000822 06/23/2000'</li>\n",
       "\t<li>''</li>\n",
       "\t<li>'iD8DBQE9ZQJ/K9b4h5R0IUIRAiPuAJwL4mUus5whLNQZC8MsDlGpEdKNrACcDfZH'</li>\n",
       "\t<li>'PcGgN9frLIM+C5Z3vagi2wE='</li>\n",
       "\t<li>'=qJoJ'</li>\n",
       "\t<li>'-----END PGP SIGNATURE-----'</li>\n",
       "\t<li>''</li>\n",
       "\t<li>'--==_Exmh_-1317289252P--'</li>\n",
       "\t<li>''</li>\n",
       "\t<li>''</li>\n",
       "\t<li>''</li>\n",
       "\t<li>'_______________________________________________'</li>\n",
       "\t<li>'Exmh-workers mailing list'</li>\n",
       "\t<li>'Exmh-workers@redhat.com'</li>\n",
       "\t<li>'https://listman.redhat.com/mailman/listinfo/exmh-workers'</li>\n",
       "\t<li>''</li>\n",
       "</ol>\n"
      ],
      "text/latex": [
       "\\begin{enumerate*}\n",
       "\\item '--==\\_Exmh\\_-1317289252P'\n",
       "\\item 'Content-Type: text/plain; charset=us-ascii'\n",
       "\\item ''\n",
       "\\item '> From:  Chris Garrigues <cwg-exmh@DeepEddy.Com>'\n",
       "\\item '> Date:  Wed, 21 Aug 2002 10:40:39 -0500'\n",
       "\\item '>'\n",
       "\\item '> > From:  Chris Garrigues <cwg-exmh@DeepEddy.Com>'\n",
       "\\item '> > Date:  Wed, 21 Aug 2002 10:17:45 -0500'\n",
       "\\item '> >'\n",
       "\\item '> > Ouch...I\\textbackslash{}'ll get right on it.'\n",
       "\\item '> > '\n",
       "\\item '> > > From:  Robert Elz <kre@munnari.OZ.AU>'\n",
       "\\item '> > > Date:  Wed, 21 Aug 2002 19:30:01 +0700'\n",
       "\\item '> > >'\n",
       "\\item '> > > Any chance of having that lengthen instead?   I like all my exmh stuff'\n",
       "\\item '> > > in nice columns (fits the display better).   That is, I use the detache'\n",
       "\\item '> d'\n",
       "\\item '> > > folder list, one column.   The main exmh window takes up full screen,'\n",
       "\\item '> > > top to bottom, but less than half the width, etc...'\n",
       "\\item '> '\n",
       "\\item '> I thought about that.  The first order approximation would be to just add '\n",
       "\\item '> using pack .... -side top instead of pack ... -side left, however, since their '\n",
       "\\item '> each a different width, it would look funny.'\n",
       "\\item ''\n",
       "\\item 'I\\textbackslash{}'ve done this.  It\\textbackslash{}'s not as pretty as I think it should be, but it works.  '\n",
       "\\item 'I\\textbackslash{}'m going to leave the cosmetic issues to others.  When I update the '\n",
       "\\item 'documentation, I\\textbackslash{}'ll add this to the exmh.TODO file.'\n",
       "\\item ''\n",
       "\\item 'I\\textbackslash{}'m leaving for a 2 1/2 week vacation in a week, so this is the last new '\n",
       "\\item 'functionality I\\textbackslash{}'m going to add for a while.  Also, I now have pretty much '\n",
       "\\item 'everything in there that I want for my own use, so I\\textbackslash{}'m probably pretty much '\n",
       "\\item 'done.  I\\textbackslash{}'ll work on bug fixes and documentation before my vacation, and '\n",
       "\\item 'hopefully do nothing more afterwards.'\n",
       "\\item ''\n",
       "\\item 'Chris'\n",
       "\\item ''\n",
       "\\item '-- '\n",
       "\\item 'Chris Garrigues                 http://www.DeepEddy.Com/\\textasciitilde{}cwg/'\n",
       "\\item 'virCIO                          http://www.virCIO.Com'\n",
       "\\item '716 Congress, Suite 200'\n",
       "\\item 'Austin, TX  78701\\textbackslash{}t\\textbackslash{}t+1 512 374 0500'\n",
       "\\item ''\n",
       "\\item '  World War III:  The Wrong-Doers Vs. the Evil-Doers.'\n",
       "\\item ''\n",
       "\\item ''\n",
       "\\item ''\n",
       "\\item ''\n",
       "\\item '--==\\_Exmh\\_-1317289252P'\n",
       "\\item 'Content-Type: application/pgp-signature'\n",
       "\\item ''\n",
       "\\item '-----BEGIN PGP SIGNATURE-----'\n",
       "\\item 'Version: GnuPG v1.0.6 (GNU/Linux)'\n",
       "\\item 'Comment: Exmh version 2.2\\_20000822 06/23/2000'\n",
       "\\item ''\n",
       "\\item 'iD8DBQE9ZQJ/K9b4h5R0IUIRAiPuAJwL4mUus5whLNQZC8MsDlGpEdKNrACcDfZH'\n",
       "\\item 'PcGgN9frLIM+C5Z3vagi2wE='\n",
       "\\item '=qJoJ'\n",
       "\\item '-----END PGP SIGNATURE-----'\n",
       "\\item ''\n",
       "\\item '--==\\_Exmh\\_-1317289252P--'\n",
       "\\item ''\n",
       "\\item ''\n",
       "\\item ''\n",
       "\\item '\\_\\_\\_\\_\\_\\_\\_\\_\\_\\_\\_\\_\\_\\_\\_\\_\\_\\_\\_\\_\\_\\_\\_\\_\\_\\_\\_\\_\\_\\_\\_\\_\\_\\_\\_\\_\\_\\_\\_\\_\\_\\_\\_\\_\\_\\_\\_'\n",
       "\\item 'Exmh-workers mailing list'\n",
       "\\item 'Exmh-workers@redhat.com'\n",
       "\\item 'https://listman.redhat.com/mailman/listinfo/exmh-workers'\n",
       "\\item ''\n",
       "\\end{enumerate*}\n"
      ],
      "text/markdown": [
       "1. '--==_Exmh_-1317289252P'\n",
       "2. 'Content-Type: text/plain; charset=us-ascii'\n",
       "3. ''\n",
       "4. <span style=white-space:pre-wrap>'&gt; From:  Chris Garrigues &lt;cwg-exmh@DeepEddy.Com&gt;'</span>\n",
       "5. <span style=white-space:pre-wrap>'&gt; Date:  Wed, 21 Aug 2002 10:40:39 -0500'</span>\n",
       "6. '&gt;'\n",
       "7. <span style=white-space:pre-wrap>'&gt; &gt; From:  Chris Garrigues &lt;cwg-exmh@DeepEddy.Com&gt;'</span>\n",
       "8. <span style=white-space:pre-wrap>'&gt; &gt; Date:  Wed, 21 Aug 2002 10:17:45 -0500'</span>\n",
       "9. '&gt; &gt;'\n",
       "10. '&gt; &gt; Ouch...I\\'ll get right on it.'\n",
       "11. '&gt; &gt; '\n",
       "12. <span style=white-space:pre-wrap>'&gt; &gt; &gt; From:  Robert Elz &lt;kre@munnari.OZ.AU&gt;'</span>\n",
       "13. <span style=white-space:pre-wrap>'&gt; &gt; &gt; Date:  Wed, 21 Aug 2002 19:30:01 +0700'</span>\n",
       "14. '&gt; &gt; &gt;'\n",
       "15. <span style=white-space:pre-wrap>'&gt; &gt; &gt; Any chance of having that lengthen instead?   I like all my exmh stuff'</span>\n",
       "16. <span style=white-space:pre-wrap>'&gt; &gt; &gt; in nice columns (fits the display better).   That is, I use the detache'</span>\n",
       "17. '&gt; d'\n",
       "18. <span style=white-space:pre-wrap>'&gt; &gt; &gt; folder list, one column.   The main exmh window takes up full screen,'</span>\n",
       "19. '&gt; &gt; &gt; top to bottom, but less than half the width, etc...'\n",
       "20. '&gt; '\n",
       "21. <span style=white-space:pre-wrap>'&gt; I thought about that.  The first order approximation would be to just add '</span>\n",
       "22. '&gt; using pack .... -side top instead of pack ... -side left, however, since their '\n",
       "23. '&gt; each a different width, it would look funny.'\n",
       "24. ''\n",
       "25. <span style=white-space:pre-wrap>'I\\'ve done this.  It\\'s not as pretty as I think it should be, but it works.  '</span>\n",
       "26. <span style=white-space:pre-wrap>'I\\'m going to leave the cosmetic issues to others.  When I update the '</span>\n",
       "27. 'documentation, I\\'ll add this to the exmh.TODO file.'\n",
       "28. ''\n",
       "29. 'I\\'m leaving for a 2 1/2 week vacation in a week, so this is the last new '\n",
       "30. <span style=white-space:pre-wrap>'functionality I\\'m going to add for a while.  Also, I now have pretty much '</span>\n",
       "31. 'everything in there that I want for my own use, so I\\'m probably pretty much '\n",
       "32. <span style=white-space:pre-wrap>'done.  I\\'ll work on bug fixes and documentation before my vacation, and '</span>\n",
       "33. 'hopefully do nothing more afterwards.'\n",
       "34. ''\n",
       "35. 'Chris'\n",
       "36. ''\n",
       "37. '-- '\n",
       "38. <span style=white-space:pre-wrap>'Chris Garrigues                 http://www.DeepEddy.Com/~cwg/'</span>\n",
       "39. <span style=white-space:pre-wrap>'virCIO                          http://www.virCIO.Com'</span>\n",
       "40. '716 Congress, Suite 200'\n",
       "41. <span style=white-space:pre-wrap>'Austin, TX  78701\\t\\t+1 512 374 0500'</span>\n",
       "42. ''\n",
       "43. <span style=white-space:pre-wrap>'  World War III:  The Wrong-Doers Vs. the Evil-Doers.'</span>\n",
       "44. ''\n",
       "45. ''\n",
       "46. ''\n",
       "47. ''\n",
       "48. '--==_Exmh_-1317289252P'\n",
       "49. 'Content-Type: application/pgp-signature'\n",
       "50. ''\n",
       "51. '-----BEGIN PGP SIGNATURE-----'\n",
       "52. 'Version: GnuPG v1.0.6 (GNU/Linux)'\n",
       "53. 'Comment: Exmh version 2.2_20000822 06/23/2000'\n",
       "54. ''\n",
       "55. 'iD8DBQE9ZQJ/K9b4h5R0IUIRAiPuAJwL4mUus5whLNQZC8MsDlGpEdKNrACcDfZH'\n",
       "56. 'PcGgN9frLIM+C5Z3vagi2wE='\n",
       "57. '=qJoJ'\n",
       "58. '-----END PGP SIGNATURE-----'\n",
       "59. ''\n",
       "60. '--==_Exmh_-1317289252P--'\n",
       "61. ''\n",
       "62. ''\n",
       "63. ''\n",
       "64. '_______________________________________________'\n",
       "65. 'Exmh-workers mailing list'\n",
       "66. 'Exmh-workers@redhat.com'\n",
       "67. 'https://listman.redhat.com/mailman/listinfo/exmh-workers'\n",
       "68. ''\n",
       "\n",
       "\n"
      ],
      "text/plain": [
       " [1] \"--==_Exmh_-1317289252P\"                                                           \n",
       " [2] \"Content-Type: text/plain; charset=us-ascii\"                                       \n",
       " [3] \"\"                                                                                 \n",
       " [4] \"> From:  Chris Garrigues <cwg-exmh@DeepEddy.Com>\"                                 \n",
       " [5] \"> Date:  Wed, 21 Aug 2002 10:40:39 -0500\"                                         \n",
       " [6] \">\"                                                                                \n",
       " [7] \"> > From:  Chris Garrigues <cwg-exmh@DeepEddy.Com>\"                               \n",
       " [8] \"> > Date:  Wed, 21 Aug 2002 10:17:45 -0500\"                                       \n",
       " [9] \"> >\"                                                                              \n",
       "[10] \"> > Ouch...I'll get right on it.\"                                                 \n",
       "[11] \"> > \"                                                                             \n",
       "[12] \"> > > From:  Robert Elz <kre@munnari.OZ.AU>\"                                      \n",
       "[13] \"> > > Date:  Wed, 21 Aug 2002 19:30:01 +0700\"                                     \n",
       "[14] \"> > >\"                                                                            \n",
       "[15] \"> > > Any chance of having that lengthen instead?   I like all my exmh stuff\"     \n",
       "[16] \"> > > in nice columns (fits the display better).   That is, I use the detache\"    \n",
       "[17] \"> d\"                                                                              \n",
       "[18] \"> > > folder list, one column.   The main exmh window takes up full screen,\"      \n",
       "[19] \"> > > top to bottom, but less than half the width, etc...\"                        \n",
       "[20] \"> \"                                                                               \n",
       "[21] \"> I thought about that.  The first order approximation would be to just add \"     \n",
       "[22] \"> using pack .... -side top instead of pack ... -side left, however, since their \"\n",
       "[23] \"> each a different width, it would look funny.\"                                   \n",
       "[24] \"\"                                                                                 \n",
       "[25] \"I've done this.  It's not as pretty as I think it should be, but it works.  \"     \n",
       "[26] \"I'm going to leave the cosmetic issues to others.  When I update the \"            \n",
       "[27] \"documentation, I'll add this to the exmh.TODO file.\"                              \n",
       "[28] \"\"                                                                                 \n",
       "[29] \"I'm leaving for a 2 1/2 week vacation in a week, so this is the last new \"        \n",
       "[30] \"functionality I'm going to add for a while.  Also, I now have pretty much \"       \n",
       "[31] \"everything in there that I want for my own use, so I'm probably pretty much \"     \n",
       "[32] \"done.  I'll work on bug fixes and documentation before my vacation, and \"         \n",
       "[33] \"hopefully do nothing more afterwards.\"                                            \n",
       "[34] \"\"                                                                                 \n",
       "[35] \"Chris\"                                                                            \n",
       "[36] \"\"                                                                                 \n",
       "[37] \"-- \"                                                                              \n",
       "[38] \"Chris Garrigues                 http://www.DeepEddy.Com/~cwg/\"                    \n",
       "[39] \"virCIO                          http://www.virCIO.Com\"                            \n",
       "[40] \"716 Congress, Suite 200\"                                                          \n",
       "[41] \"Austin, TX  78701\\t\\t+1 512 374 0500\"                                             \n",
       "[42] \"\"                                                                                 \n",
       "[43] \"  World War III:  The Wrong-Doers Vs. the Evil-Doers.\"                            \n",
       "[44] \"\"                                                                                 \n",
       "[45] \"\"                                                                                 \n",
       "[46] \"\"                                                                                 \n",
       "[47] \"\"                                                                                 \n",
       "[48] \"--==_Exmh_-1317289252P\"                                                           \n",
       "[49] \"Content-Type: application/pgp-signature\"                                          \n",
       "[50] \"\"                                                                                 \n",
       "[51] \"-----BEGIN PGP SIGNATURE-----\"                                                    \n",
       "[52] \"Version: GnuPG v1.0.6 (GNU/Linux)\"                                                \n",
       "[53] \"Comment: Exmh version 2.2_20000822 06/23/2000\"                                    \n",
       "[54] \"\"                                                                                 \n",
       "[55] \"iD8DBQE9ZQJ/K9b4h5R0IUIRAiPuAJwL4mUus5whLNQZC8MsDlGpEdKNrACcDfZH\"                 \n",
       "[56] \"PcGgN9frLIM+C5Z3vagi2wE=\"                                                         \n",
       "[57] \"=qJoJ\"                                                                            \n",
       "[58] \"-----END PGP SIGNATURE-----\"                                                      \n",
       "[59] \"\"                                                                                 \n",
       "[60] \"--==_Exmh_-1317289252P--\"                                                         \n",
       "[61] \"\"                                                                                 \n",
       "[62] \"\"                                                                                 \n",
       "[63] \"\"                                                                                 \n",
       "[64] \"_______________________________________________\"                                  \n",
       "[65] \"Exmh-workers mailing list\"                                                        \n",
       "[66] \"Exmh-workers@redhat.com\"                                                          \n",
       "[67] \"https://listman.redhat.com/mailman/listinfo/exmh-workers\"                         \n",
       "[68] \"\"                                                                                 "
      ]
     },
     "metadata": {},
     "output_type": "display_data"
    }
   ],
   "source": [
    "sampleSplit[[6]]$body"
   ]
  },
  {
   "cell_type": "code",
   "execution_count": 51,
   "metadata": {},
   "outputs": [
    {
     "data": {
      "text/html": [
       "<ol class=list-inline>\n",
       "\t<li>''</li>\n",
       "\t<li>'Well Beberg, unless you\\'re really into Anime and actually hold true'</li>\n",
       "\t<li>'that dead people can send email, I think Geege\\'s subject is just dandy.'</li>\n",
       "\t<li>'Especially since she removed herself from the hive that is aol (and'</li>\n",
       "\t<li>'placed herself unto another, but hey :-))'</li>\n",
       "\t<li>''</li>\n",
       "\t<li><span style=white-space:pre-wrap>'Geege:  I think its cute when he worries like that, don\\'t you?'</span></li>\n",
       "\t<li>':)'</li>\n",
       "\t<li>''</li>\n",
       "\t<li>'*ducks and runs*'</li>\n",
       "\t<li>''</li>\n",
       "\t<li>'(bonus FoRK points if Adam knows what anime i\\'m refering to)'</li>\n",
       "\t<li>''</li>\n",
       "\t<li>'BB'</li>\n",
       "\t<li>''</li>\n",
       "\t<li>''</li>\n",
       "</ol>\n"
      ],
      "text/latex": [
       "\\begin{enumerate*}\n",
       "\\item ''\n",
       "\\item 'Well Beberg, unless you\\textbackslash{}'re really into Anime and actually hold true'\n",
       "\\item 'that dead people can send email, I think Geege\\textbackslash{}'s subject is just dandy.'\n",
       "\\item 'Especially since she removed herself from the hive that is aol (and'\n",
       "\\item 'placed herself unto another, but hey :-))'\n",
       "\\item ''\n",
       "\\item 'Geege:  I think its cute when he worries like that, don\\textbackslash{}'t you?'\n",
       "\\item ':)'\n",
       "\\item ''\n",
       "\\item '*ducks and runs*'\n",
       "\\item ''\n",
       "\\item '(bonus FoRK points if Adam knows what anime i\\textbackslash{}'m refering to)'\n",
       "\\item ''\n",
       "\\item 'BB'\n",
       "\\item ''\n",
       "\\item ''\n",
       "\\end{enumerate*}\n"
      ],
      "text/markdown": [
       "1. ''\n",
       "2. 'Well Beberg, unless you\\'re really into Anime and actually hold true'\n",
       "3. 'that dead people can send email, I think Geege\\'s subject is just dandy.'\n",
       "4. 'Especially since she removed herself from the hive that is aol (and'\n",
       "5. 'placed herself unto another, but hey :-))'\n",
       "6. ''\n",
       "7. <span style=white-space:pre-wrap>'Geege:  I think its cute when he worries like that, don\\'t you?'</span>\n",
       "8. ':)'\n",
       "9. ''\n",
       "10. '*ducks and runs*'\n",
       "11. ''\n",
       "12. '(bonus FoRK points if Adam knows what anime i\\'m refering to)'\n",
       "13. ''\n",
       "14. 'BB'\n",
       "15. ''\n",
       "16. ''\n",
       "\n",
       "\n"
      ],
      "text/plain": [
       " [1] \"\"                                                                       \n",
       " [2] \"Well Beberg, unless you're really into Anime and actually hold true\"    \n",
       " [3] \"that dead people can send email, I think Geege's subject is just dandy.\"\n",
       " [4] \"Especially since she removed herself from the hive that is aol (and\"    \n",
       " [5] \"placed herself unto another, but hey :-))\"                              \n",
       " [6] \"\"                                                                       \n",
       " [7] \"Geege:  I think its cute when he worries like that, don't you?\"         \n",
       " [8] \":)\"                                                                     \n",
       " [9] \"\"                                                                       \n",
       "[10] \"*ducks and runs*\"                                                       \n",
       "[11] \"\"                                                                       \n",
       "[12] \"(bonus FoRK points if Adam knows what anime i'm refering to)\"           \n",
       "[13] \"\"                                                                       \n",
       "[14] \"BB\"                                                                     \n",
       "[15] \"\"                                                                       \n",
       "[16] \"\"                                                                       "
      ]
     },
     "metadata": {},
     "output_type": "display_data"
    }
   ],
   "source": [
    "sampleSplit[[11]]$body"
   ]
  },
  {
   "cell_type": "code",
   "execution_count": 54,
   "metadata": {},
   "outputs": [],
   "source": [
    "boundary = getBoundary(headerList[[15]]) "
   ]
  },
  {
   "cell_type": "code",
   "execution_count": 55,
   "metadata": {},
   "outputs": [],
   "source": [
    "body = sampleSplit[[15]]$body"
   ]
  },
  {
   "cell_type": "code",
   "execution_count": 59,
   "metadata": {},
   "outputs": [],
   "source": [
    "bString = paste(\"--\", boundary, sep = \"\")\n",
    "bStringLocs = which(bString == body)"
   ]
  },
  {
   "cell_type": "code",
   "execution_count": 60,
   "metadata": {},
   "outputs": [
    {
     "data": {
      "text/html": [],
      "text/latex": [],
      "text/markdown": [],
      "text/plain": [
       "integer(0)"
      ]
     },
     "metadata": {},
     "output_type": "display_data"
    }
   ],
   "source": [
    "bStringLocs"
   ]
  },
  {
   "cell_type": "code",
   "execution_count": 61,
   "metadata": {},
   "outputs": [],
   "source": [
    "eString = paste(\"--\", boundary, \"--\", sep = \"\")\n",
    "eStringLoc = which(eString == body)"
   ]
  },
  {
   "cell_type": "code",
   "execution_count": 62,
   "metadata": {},
   "outputs": [
    {
     "data": {
      "text/html": [],
      "text/latex": [],
      "text/markdown": [],
      "text/plain": [
       "integer(0)"
      ]
     },
     "metadata": {},
     "output_type": "display_data"
    }
   ],
   "source": [
    "eStringLoc"
   ]
  },
  {
   "cell_type": "code",
   "execution_count": 63,
   "metadata": {},
   "outputs": [
    {
     "ename": "ERROR",
     "evalue": "Error in (bStringLocs[1] + 1):(bStringLocs[2] - 1): NA/NaN argument\n",
     "output_type": "error",
     "traceback": [
      "Error in (bStringLocs[1] + 1):(bStringLocs[2] - 1): NA/NaN argument\nTraceback:\n"
     ]
    }
   ],
   "source": [
    "msg = body[ (bStringLocs[1] + 1) : (bStringLocs[2] - 1)]"
   ]
  },
  {
   "cell_type": "code",
   "execution_count": null,
   "metadata": {},
   "outputs": [],
   "source": [
    "tail(msg)"
   ]
  },
  {
   "cell_type": "code",
   "execution_count": null,
   "metadata": {},
   "outputs": [],
   "source": [
    "msg = c(msg, body[ (eStringLoc + 1) : length(body) ])"
   ]
  },
  {
   "cell_type": "code",
   "execution_count": null,
   "metadata": {},
   "outputs": [],
   "source": [
    "tail(msg)"
   ]
  },
  {
   "cell_type": "code",
   "execution_count": null,
   "metadata": {},
   "outputs": [],
   "source": [
    "dropAttach = function(body, boundary){\n",
    "  \n",
    "  bString = paste(\"--\", boundary, sep = \"\")\n",
    "  bStringLocs = which(bString == body)\n",
    "  \n",
    "  if (length(bStringLocs) <= 1) return(body)\n",
    "  \n",
    "  eString = paste(\"--\", boundary, \"--\", sep = \"\")\n",
    "  eStringLoc = which(eString == body)\n",
    "  if (length(eStringLoc) == 0) \n",
    "    return(body[ (bStringLocs[1] + 1) : (bStringLocs[2] - 1)])\n",
    "  \n",
    "  n = length(body)\n",
    "  if (eStringLoc < n) \n",
    "     return( body[ c( (bStringLocs[1] + 1) : (bStringLocs[2] - 1), \n",
    "                    ( (eStringLoc + 1) : n )) ] )\n",
    "  \n",
    "  return( body[ (bStringLocs[1] + 1) : (bStringLocs[2] - 1) ])\n",
    "}"
   ]
  },
  {
   "cell_type": "code",
   "execution_count": null,
   "metadata": {},
   "outputs": [],
   "source": [
    "head(sampleSplit[[1]]$body)"
   ]
  },
  {
   "cell_type": "code",
   "execution_count": null,
   "metadata": {},
   "outputs": [],
   "source": [
    "msg = sampleSplit[[3]]$body"
   ]
  },
  {
   "cell_type": "code",
   "execution_count": null,
   "metadata": {},
   "outputs": [],
   "source": [
    "head(msg)"
   ]
  },
  {
   "cell_type": "code",
   "execution_count": null,
   "metadata": {},
   "outputs": [],
   "source": [
    "msg[ c(1, 3, 26, 27) ]"
   ]
  },
  {
   "cell_type": "code",
   "execution_count": null,
   "metadata": {},
   "outputs": [],
   "source": [
    "cleanMsg = tolower(gsub(\"[[:punct:]0-9[:blank:]]+\", \" \", msg))\n",
    "cleanMsg[ c(1, 3, 26, 27) ]"
   ]
  },
  {
   "cell_type": "code",
   "execution_count": null,
   "metadata": {},
   "outputs": [],
   "source": [
    "install.packages(\"NLP\")"
   ]
  },
  {
   "cell_type": "code",
   "execution_count": null,
   "metadata": {},
   "outputs": [],
   "source": [
    "library(NLP)"
   ]
  },
  {
   "cell_type": "code",
   "execution_count": null,
   "metadata": {},
   "outputs": [],
   "source": [
    "library(tm)\n",
    "stopWords = stopwords()\n",
    "cleanSW = tolower(gsub(\"[[:punct:]0-9[:blank:]]+\", \" \", stopWords))\n",
    "SWords = unlist(strsplit(cleanSW, \"[[:blank:]]+\"))\n",
    "SWords = SWords[ nchar(SWords) > 1 ]\n",
    "stopWords = unique(SWords)"
   ]
  },
  {
   "cell_type": "code",
   "execution_count": null,
   "metadata": {},
   "outputs": [],
   "source": [
    "words = unlist(strsplit(cleanMsg, \"[[:blank:]]+\"))"
   ]
  },
  {
   "cell_type": "code",
   "execution_count": null,
   "metadata": {},
   "outputs": [],
   "source": [
    "words = words[ nchar(words) > 1 ]"
   ]
  },
  {
   "cell_type": "code",
   "execution_count": null,
   "metadata": {},
   "outputs": [],
   "source": [
    "words = words[ !( words %in% stopWords) ]"
   ]
  },
  {
   "cell_type": "code",
   "execution_count": null,
   "metadata": {},
   "outputs": [],
   "source": [
    "head(words)"
   ]
  },
  {
   "cell_type": "code",
   "execution_count": null,
   "metadata": {},
   "outputs": [],
   "source": [
    "cleanText =\n",
    "function(msg)   {\n",
    "  tolower(gsub(\"[[:punct:]0-9[:space:][:blank:]]+\", \" \", msg))\n",
    "}"
   ]
  },
  {
   "cell_type": "code",
   "execution_count": null,
   "metadata": {},
   "outputs": [],
   "source": [
    "findMsgWords = \n",
    "function(msg, stopWords) {\n",
    " if(is.null(msg))\n",
    "  return(character())\n",
    " words = unique(unlist(strsplit(cleanText(msg), \"[[:blank:]\\t]+\")))\n",
    "# drop empty and 1 letter words\n",
    " words = words[ nchar(words) > 1]\n",
    " words = words[ !( words %in% stopWords) ]\n",
    " invisible(words)\n",
    "}"
   ]
  },
  {
   "cell_type": "code",
   "execution_count": null,
   "metadata": {},
   "outputs": [],
   "source": [
    "processAllWords = function(dirName, stopWords)\n",
    "{\n",
    "       # read all files in the directory\n",
    "  fileNames = list.files(dirName, full.names = TRUE)\n",
    "       # drop files that are not email, i.e., cmds\n",
    "  notEmail = grep(\"cmds$\", fileNames)\n",
    "  if ( length(notEmail) > 0) fileNames = fileNames[ - notEmail ]\n",
    "\n",
    "  messages = lapply(fileNames, readLines, encoding = \"latin1\")\n",
    "  \n",
    "       # split header and body\n",
    "  emailSplit = lapply(messages, splitMessage)\n",
    "       # put body and header in own lists\n",
    "  bodyList = lapply(emailSplit, function(msg) msg$body)\n",
    "  headerList = lapply(emailSplit, function(msg) msg$header)\n",
    "  rm(emailSplit)\n",
    "  \n",
    "       # determine which messages have attachments\n",
    "  hasAttach = sapply(headerList, function(header) {\n",
    "    CTloc = grep(\"Content-Type\", header)\n",
    "    if (length(CTloc) == 0) return(0)\n",
    "    multi = grep(\"multi\", tolower(header[CTloc])) \n",
    "    if (length(multi) == 0) return(0)\n",
    "    multi\n",
    "  })\n",
    "  \n",
    "  hasAttach = which(hasAttach > 0)\n",
    "  \n",
    "       # find boundary strings for messages with attachments\n",
    "  boundaries = sapply(headerList[hasAttach], getBoundary)\n",
    "  \n",
    "       # drop attachments from message body\n",
    "  bodyList[hasAttach] = mapply(dropAttach, bodyList[hasAttach], \n",
    "                               boundaries, SIMPLIFY = FALSE)\n",
    "  \n",
    "       # extract words from body\n",
    "  msgWordsList = lapply(bodyList, findMsgWords, stopWords)\n",
    "  \n",
    "  invisible(msgWordsList)\n",
    "}"
   ]
  },
  {
   "cell_type": "code",
   "execution_count": null,
   "metadata": {},
   "outputs": [],
   "source": [
    "msgWordsList = lapply(fullDirNames, processAllWords, \n",
    "                      stopWords = stopWords) "
   ]
  },
  {
   "cell_type": "code",
   "execution_count": null,
   "metadata": {},
   "outputs": [],
   "source": [
    "numMsgs = sapply(msgWordsList, length)\n",
    "numMsgs"
   ]
  },
  {
   "cell_type": "code",
   "execution_count": null,
   "metadata": {},
   "outputs": [],
   "source": [
    "isSpam = rep(c(FALSE, FALSE, FALSE, TRUE, TRUE), numMsgs)"
   ]
  },
  {
   "cell_type": "code",
   "execution_count": null,
   "metadata": {},
   "outputs": [],
   "source": [
    "msgWordsList = unlist(msgWordsList, recursive = FALSE)"
   ]
  },
  {
   "cell_type": "code",
   "execution_count": null,
   "metadata": {},
   "outputs": [],
   "source": [
    "numEmail = length(isSpam)\n",
    "numSpam = sum(isSpam)\n",
    "numHam = numEmail - numSpam"
   ]
  },
  {
   "cell_type": "code",
   "execution_count": null,
   "metadata": {},
   "outputs": [],
   "source": [
    "set.seed(418910)"
   ]
  },
  {
   "cell_type": "code",
   "execution_count": null,
   "metadata": {},
   "outputs": [],
   "source": [
    "testSpamIdx = sample(numSpam, size = floor(numSpam/3))\n",
    "testHamIdx = sample(numHam, size = floor(numHam/3))"
   ]
  },
  {
   "cell_type": "code",
   "execution_count": null,
   "metadata": {},
   "outputs": [],
   "source": [
    "testMsgWords = c((msgWordsList[isSpam])[testSpamIdx],\n",
    "                 (msgWordsList[!isSpam])[testHamIdx] )\n",
    "trainMsgWords = c((msgWordsList[isSpam])[ - testSpamIdx], \n",
    "                  (msgWordsList[!isSpam])[ - testHamIdx])"
   ]
  },
  {
   "cell_type": "code",
   "execution_count": null,
   "metadata": {},
   "outputs": [],
   "source": [
    "testIsSpam = rep(c(TRUE, FALSE), \n",
    "                 c(length(testSpamIdx), length(testHamIdx)))\n",
    "trainIsSpam = rep(c(TRUE, FALSE), \n",
    "                 c(numSpam - length(testSpamIdx), \n",
    "                   numHam - length(testHamIdx)))"
   ]
  },
  {
   "cell_type": "code",
   "execution_count": null,
   "metadata": {},
   "outputs": [],
   "source": [
    "bow = unique(unlist(trainMsgWords))"
   ]
  },
  {
   "cell_type": "code",
   "execution_count": null,
   "metadata": {},
   "outputs": [],
   "source": [
    "length(bow)"
   ]
  },
  {
   "cell_type": "code",
   "execution_count": null,
   "metadata": {},
   "outputs": [],
   "source": [
    "spamWordCounts = rep(0, length(bow))"
   ]
  },
  {
   "cell_type": "code",
   "execution_count": null,
   "metadata": {},
   "outputs": [],
   "source": [
    "names(spamWordCounts) = bow"
   ]
  },
  {
   "cell_type": "code",
   "execution_count": null,
   "metadata": {},
   "outputs": [],
   "source": [
    "tmp = lapply(trainMsgWords[trainIsSpam], unique)\n",
    "tt = table( unlist(tmp) )\n",
    "spamWordCounts[ names(tt) ] = tt"
   ]
  },
  {
   "cell_type": "code",
   "execution_count": null,
   "metadata": {},
   "outputs": [],
   "source": [
    "computeFreqs =\n",
    "function(wordsList, spam, bow = unique(unlist(wordsList)))\n",
    "{\n",
    "   # create a matrix for spam, ham, and log odds\n",
    "  wordTable = matrix(0.5, nrow = 4, ncol = length(bow), \n",
    "                     dimnames = list(c(\"spam\", \"ham\", \n",
    "                                        \"presentLogOdds\", \n",
    "                                        \"absentLogOdds\"),  bow))\n",
    "\n",
    "   # For each spam message, add 1 to counts for words in message\n",
    "  counts.spam = table(unlist(lapply(wordsList[spam], unique)))\n",
    "  wordTable[\"spam\", names(counts.spam)] = counts.spam + .5\n",
    "\n",
    "   # Similarly for ham messages\n",
    "  counts.ham = table(unlist(lapply(wordsList[!spam], unique)))  \n",
    "  wordTable[\"ham\", names(counts.ham)] = counts.ham + .5  \n",
    "\n",
    "\n",
    "   # Find the total number of spam and ham\n",
    "  numSpam = sum(spam)\n",
    "  numHam = length(spam) - numSpam\n",
    "\n",
    "   # Prob(word|spam) and Prob(word | ham)\n",
    "  wordTable[\"spam\", ] = wordTable[\"spam\", ]/(numSpam + .5)\n",
    "  wordTable[\"ham\", ] = wordTable[\"ham\", ]/(numHam + .5)\n",
    "  \n",
    "   # log odds\n",
    "  wordTable[\"presentLogOdds\", ] = \n",
    "     log(wordTable[\"spam\",]) - log(wordTable[\"ham\", ])\n",
    "  wordTable[\"absentLogOdds\", ] = \n",
    "     log((1 - wordTable[\"spam\", ])) - log((1 -wordTable[\"ham\", ]))\n",
    "\n",
    "  invisible(wordTable)\n",
    "}"
   ]
  },
  {
   "cell_type": "code",
   "execution_count": null,
   "metadata": {},
   "outputs": [],
   "source": [
    "trainTable = computeFreqs(trainMsgWords, trainIsSpam)"
   ]
  },
  {
   "cell_type": "code",
   "execution_count": null,
   "metadata": {},
   "outputs": [],
   "source": [
    "newMsg = testMsgWords[[1]]"
   ]
  },
  {
   "cell_type": "code",
   "execution_count": null,
   "metadata": {},
   "outputs": [],
   "source": [
    "newMsg = newMsg[!is.na(match(newMsg, colnames(trainTable)))]"
   ]
  },
  {
   "cell_type": "code",
   "execution_count": null,
   "metadata": {},
   "outputs": [],
   "source": [
    "present = colnames(trainTable) %in% newMsg"
   ]
  },
  {
   "cell_type": "code",
   "execution_count": null,
   "metadata": {},
   "outputs": [],
   "source": [
    "sum(trainTable[\"presentLogOdds\", present]) + \n",
    "  sum(trainTable[\"absentLogOdds\", !present])"
   ]
  },
  {
   "cell_type": "code",
   "execution_count": null,
   "metadata": {},
   "outputs": [],
   "source": [
    "newMsg = testMsgWords[[ which(!testIsSpam)[1] ]]\n",
    "newMsg = newMsg[!is.na(match(newMsg, colnames(trainTable)))]\n",
    "present = (colnames(trainTable) %in% newMsg)\n",
    "sum(trainTable[\"presentLogOdds\", present]) + \n",
    "     sum(trainTable[\"absentLogOdds\", !present])"
   ]
  },
  {
   "cell_type": "code",
   "execution_count": null,
   "metadata": {},
   "outputs": [],
   "source": [
    "computeMsgLLR = function(words, freqTable) \n",
    "{\n",
    "       # Discards words not in training data.\n",
    "  words = words[!is.na(match(words, colnames(freqTable)))]\n",
    "\n",
    "       # Find which words are present\n",
    "  present = colnames(freqTable) %in% words\n",
    "\n",
    "  sum(freqTable[\"presentLogOdds\", present]) +\n",
    "    sum(freqTable[\"absentLogOdds\", !present])\n",
    "}"
   ]
  },
  {
   "cell_type": "code",
   "execution_count": null,
   "metadata": {},
   "outputs": [],
   "source": [
    "testLLR = sapply(testMsgWords, computeMsgLLR, trainTable)"
   ]
  },
  {
   "cell_type": "code",
   "execution_count": null,
   "metadata": {},
   "outputs": [],
   "source": [
    "tapply(testLLR, testIsSpam, summary)"
   ]
  },
  {
   "cell_type": "code",
   "execution_count": null,
   "metadata": {},
   "outputs": [],
   "source": [
    "pdf(\"SP_Boxplot.pdf\", width = 6, height = 6)\n",
    "spamLab = c(\"ham\", \"spam\")[1 + testIsSpam]\n",
    "boxplot(testLLR ~ spamLab, ylab = \"Log Likelihood Ratio\",\n",
    "      #  main = \"Log Likelihood Ratio for Randomly Chosen Test Messages\",\n",
    "        ylim=c(-500, 500))"
   ]
  },
  {
   "cell_type": "code",
   "execution_count": null,
   "metadata": {},
   "outputs": [],
   "source": [
    "dev.off()"
   ]
  },
  {
   "cell_type": "code",
   "execution_count": null,
   "metadata": {},
   "outputs": [],
   "source": [
    "typeIErrorRate = \n",
    "function(tau, llrVals, spam)\n",
    "{\n",
    "  classify = llrVals > tau\n",
    "  sum(classify & !spam)/sum(!spam)\n",
    "}"
   ]
  },
  {
   "cell_type": "code",
   "execution_count": null,
   "metadata": {},
   "outputs": [],
   "source": [
    "typeIErrorRate(0, testLLR,testIsSpam)"
   ]
  },
  {
   "cell_type": "code",
   "execution_count": null,
   "metadata": {},
   "outputs": [],
   "source": [
    "typeIErrorRate(-20, testLLR,testIsSpam)"
   ]
  },
  {
   "cell_type": "code",
   "execution_count": null,
   "metadata": {},
   "outputs": [],
   "source": [
    "typeIErrorRates = \n",
    "function(llrVals, isSpam) \n",
    "{\n",
    "  o = order(llrVals)\n",
    "  llrVals =  llrVals[o]\n",
    "  isSpam = isSpam[o]\n",
    "\n",
    "  idx = which(!isSpam)\n",
    "  N = length(idx)\n",
    "  list(error = (N:1)/N, values = llrVals[idx])\n",
    "}"
   ]
  },
  {
   "cell_type": "code",
   "execution_count": null,
   "metadata": {},
   "outputs": [],
   "source": [
    "typeIIErrorRates = function(llrVals, isSpam) {\n",
    "    \n",
    "  o = order(llrVals)\n",
    "  llrVals =  llrVals[o]\n",
    "  isSpam = isSpam[o]\n",
    "    \n",
    "    \n",
    "  idx = which(isSpam)\n",
    "  N = length(idx)\n",
    "  list(error = (1:(N))/N, values = llrVals[idx])\n",
    "  }  "
   ]
  },
  {
   "cell_type": "code",
   "execution_count": null,
   "metadata": {},
   "outputs": [],
   "source": [
    "xI = typeIErrorRates(testLLR, testIsSpam)\n",
    "xII = typeIIErrorRates(testLLR, testIsSpam)\n",
    "tau01 = round(min(xI$values[xI$error <= 0.01]))\n",
    "t2 = max(xII$error[ xII$values < tau01 ])"
   ]
  },
  {
   "cell_type": "code",
   "execution_count": null,
   "metadata": {},
   "outputs": [],
   "source": [
    "pdf(\"LinePlotTypeI+IIErrors.pdf\", width = 8, height = 6)"
   ]
  },
  {
   "cell_type": "code",
   "execution_count": null,
   "metadata": {},
   "outputs": [],
   "source": [
    "library(RColorBrewer)\n",
    "cols = brewer.pal(9, \"Set1\")[c(3, 4, 5)]\n",
    "plot(xII$error ~ xII$values,  type = \"l\", col = cols[1], lwd = 3,\n",
    "     xlim = c(-300, 250), ylim = c(0, 1),\n",
    "     xlab = \"Log Likelihood Ratio Values\", ylab=\"Error Rate\")\n",
    "points(xI$error ~ xI$values, type = \"l\", col = cols[2], lwd = 3)\n",
    "legend(x = 50, y = 0.4, fill = c(cols[2], cols[1]),\n",
    "       legend = c(\"Classify Ham as Spam\", \n",
    "                  \"Classify Spam as Ham\"), cex = 0.8,\n",
    "       bty = \"n\")\n",
    "abline(h=0.01, col =\"grey\", lwd = 3, lty = 2)\n",
    "text(-250, 0.05, pos = 4, \"Type I Error = 0.01\", col = cols[2])\n",
    "\n",
    "mtext(tau01, side = 1, line = 0.5, at = tau01, col = cols[3])\n",
    "segments(x0 = tau01, y0 = -.50, x1 = tau01, y1 = t2, \n",
    "         lwd = 2, col = \"grey\")\n",
    "text(tau01 + 20, 0.05, pos = 4,\n",
    "     paste(\"Type II Error = \", round(t2, digits = 2)), \n",
    "     col = cols[1])"
   ]
  },
  {
   "cell_type": "code",
   "execution_count": null,
   "metadata": {},
   "outputs": [],
   "source": [
    "dev.off()"
   ]
  },
  {
   "cell_type": "code",
   "execution_count": null,
   "metadata": {},
   "outputs": [],
   "source": [
    "k = 5\n",
    "numTrain = length(trainMsgWords)\n",
    "partK = sample(numTrain)\n",
    "tot = k * floor(numTrain/k)\n",
    "partK = matrix(partK[1:tot], ncol = k)"
   ]
  },
  {
   "cell_type": "code",
   "execution_count": null,
   "metadata": {},
   "outputs": [],
   "source": [
    "testFoldOdds = NULL\n",
    "for (i in 1:k) {\n",
    "  foldIdx = partK[ , i]\n",
    "  trainTabFold = computeFreqs(trainMsgWords[-foldIdx], trainIsSpam[-foldIdx])\n",
    "  testFoldOdds = c(testFoldOdds, \n",
    "               sapply(trainMsgWords[ foldIdx ], computeMsgLLR, trainTabFold))\n",
    "}"
   ]
  },
  {
   "cell_type": "code",
   "execution_count": null,
   "metadata": {},
   "outputs": [],
   "source": [
    "testFoldSpam = NULL\n",
    "for (i in 1:k) {\n",
    "  foldIdx = partK[ , i]\n",
    "  testFoldSpam = c(testFoldSpam, trainIsSpam[foldIdx])\n",
    "}"
   ]
  },
  {
   "cell_type": "code",
   "execution_count": null,
   "metadata": {},
   "outputs": [],
   "source": [
    "xFoldI = typeIErrorRates(testFoldOdds, testFoldSpam)\n",
    "xFoldII = typeIIErrorRates(testFoldOdds, testFoldSpam)\n",
    "tauFoldI = round(min(xFoldI$values[xFoldI$error <= 0.01]))\n",
    "tFold2 = xFoldII$error[ xFoldII$values < tauFoldI ]"
   ]
  },
  {
   "cell_type": "code",
   "execution_count": null,
   "metadata": {},
   "outputs": [],
   "source": [
    "smallNums = rep((1/2)^40, 2000000)\n",
    "largeNum = 10000"
   ]
  },
  {
   "cell_type": "code",
   "execution_count": null,
   "metadata": {},
   "outputs": [],
   "source": [
    "print(sum(smallNums), digits = 20)"
   ]
  },
  {
   "cell_type": "code",
   "execution_count": null,
   "metadata": {},
   "outputs": [],
   "source": [
    "print(largeNum + sum(smallNums), digits = 20)"
   ]
  },
  {
   "cell_type": "code",
   "execution_count": null,
   "metadata": {},
   "outputs": [],
   "source": [
    "for (i in 1:length(smallNums)) {\n",
    "  largeNum = largeNum + smallNums[i]\n",
    "}\n",
    "print(largeNum, digits = 20)"
   ]
  },
  {
   "cell_type": "code",
   "execution_count": null,
   "metadata": {},
   "outputs": [],
   "source": [
    "sampleSplit = lapply(sampleEmail, splitMessage)"
   ]
  },
  {
   "cell_type": "code",
   "execution_count": null,
   "metadata": {},
   "outputs": [],
   "source": [
    "header = sampleSplit[[1]]$header\n",
    "header[1:12]"
   ]
  },
  {
   "cell_type": "code",
   "execution_count": null,
   "metadata": {},
   "outputs": [],
   "source": [
    "header[1] = sub(\"^From\", \"Top-From:\", header[1])\n",
    "header[1]"
   ]
  },
  {
   "cell_type": "code",
   "execution_count": null,
   "metadata": {},
   "outputs": [],
   "source": [
    "headerPieces = read.dcf(textConnection(header), all = TRUE)"
   ]
  },
  {
   "cell_type": "code",
   "execution_count": null,
   "metadata": {},
   "outputs": [],
   "source": [
    "headerPieces[, \"Delivered-To\"]"
   ]
  },
  {
   "cell_type": "code",
   "execution_count": null,
   "metadata": {},
   "outputs": [],
   "source": [
    "headerVec = unlist(headerPieces)\n",
    "dupKeys = sapply(headerPieces, function(x) length(unlist(x)))\n",
    "names(headerVec) = rep(colnames(headerPieces), dupKeys)"
   ]
  },
  {
   "cell_type": "code",
   "execution_count": null,
   "metadata": {},
   "outputs": [],
   "source": [
    "headerVec[ which(names(headerVec) == \"Delivered-To\") ]"
   ]
  },
  {
   "cell_type": "code",
   "execution_count": null,
   "metadata": {},
   "outputs": [],
   "source": [
    "length(headerVec)"
   ]
  },
  {
   "cell_type": "code",
   "execution_count": null,
   "metadata": {},
   "outputs": [],
   "source": [
    "length(unique(names(headerVec)))"
   ]
  },
  {
   "cell_type": "code",
   "execution_count": null,
   "metadata": {},
   "outputs": [],
   "source": [
    "processHeader = function(header)\n",
    "{\n",
    "       # modify the first line to create a key:value pair\n",
    "  header[1] = sub(\"^From\", \"Top-From:\", header[1])\n",
    "  \n",
    "  headerMat = read.dcf(textConnection(header), all = TRUE)\n",
    "  headerVec = unlist(headerMat)\n",
    "  \n",
    "  dupKeys = sapply(headerMat, function(x) length(unlist(x)))\n",
    "  names(headerVec) = rep(colnames(headerMat), dupKeys)\n",
    "  \n",
    "  return(headerVec)\n",
    "}"
   ]
  },
  {
   "cell_type": "code",
   "execution_count": null,
   "metadata": {},
   "outputs": [],
   "source": [
    "headerList = lapply(sampleSplit, \n",
    "                    function(msg) {\n",
    "                      processHeader(msg$header)} )"
   ]
  },
  {
   "cell_type": "code",
   "execution_count": null,
   "metadata": {},
   "outputs": [],
   "source": [
    "contentTypes = sapply(headerList, function(header) \n",
    "                                        header[\"Content-Type\"])\n",
    "names(contentTypes) = NULL\n",
    "contentTypes"
   ]
  },
  {
   "cell_type": "code",
   "execution_count": null,
   "metadata": {},
   "outputs": [],
   "source": [
    "hasAttach = grep(\"^ *multi\", tolower(contentTypes))\n",
    "hasAttach"
   ]
  },
  {
   "cell_type": "code",
   "execution_count": null,
   "metadata": {},
   "outputs": [],
   "source": [
    "boundaries = getBoundary(contentTypes[ hasAttach ])\n",
    "boundaries"
   ]
  },
  {
   "cell_type": "code",
   "execution_count": null,
   "metadata": {},
   "outputs": [],
   "source": [
    "boundary = boundaries[9]\n",
    "body = sampleSplit[[15]]$body"
   ]
  },
  {
   "cell_type": "code",
   "execution_count": null,
   "metadata": {},
   "outputs": [],
   "source": [
    "bString = paste(\"--\", boundary, sep = \"\")\n",
    "bStringLocs = which(bString == body)\n",
    "bStringLocs"
   ]
  },
  {
   "cell_type": "code",
   "execution_count": null,
   "metadata": {},
   "outputs": [],
   "source": [
    "eString = paste(\"--\", boundary, \"--\", sep = \"\")\n",
    "eStringLoc = which(eString == body)\n",
    "eStringLoc"
   ]
  },
  {
   "cell_type": "code",
   "execution_count": null,
   "metadata": {},
   "outputs": [],
   "source": [
    "diff(c(bStringLocs[-1], eStringLoc))"
   ]
  },
  {
   "cell_type": "code",
   "execution_count": null,
   "metadata": {},
   "outputs": [],
   "source": [
    "### This code has mistakes in it - and we fix them later!\n",
    "processAttach = function(body, contentType){\n",
    "  \n",
    "  boundary = getBoundary(contentType)\n",
    "  \n",
    "  bString = paste(\"--\", boundary, \"$\", sep = \"\")\n",
    "  bStringLocs = grep(bString, body)\n",
    "  \n",
    "  eString = paste(\"--\", boundary, \"--$\", sep = \"\")\n",
    "  eStringLoc = grep(eString, body)\n",
    "  \n",
    "  n = length(body)\n",
    "  \n",
    "  if (length(eStringLoc) == 0) eStringLoc = n + 1\n",
    "  if (length(bStringLocs) == 1) attachLocs = NULL\n",
    "  else attachLocs = c(bStringLocs[-1],  eStringLoc)\n",
    "  \n",
    "  msg = body[ (bStringLocs[1] + 1) : min(n, (bStringLocs[2] - 1), \n",
    "                                         na.rm = TRUE)]\n",
    "  \n",
    "  if ( eStringLoc < n )\n",
    "    msg = c(msg, body[ (eStringLoc + 1) : n ])\n",
    "  \n",
    "  if ( !is.null(attachLocs) ) {\n",
    "    attachLens = diff(attachLocs, lag = 1) \n",
    "    attachTypes = mapply(function(begL, endL) {\n",
    "      contentTypeLoc = grep(\"[Cc]ontent-[Tt]ype\", body[ (begL + 1) : (endL - 1)])\n",
    "      contentType = body[ begL + contentTypeLoc]\n",
    "      contentType = gsub('\"', \"\", contentType )\n",
    "      MIMEType = sub(\" *Content-Type: *([^;]*);?.*\", \"\\\\1\", contentType)\n",
    "      return(MIMEType)\n",
    "    }, attachLocs[-length(attachLocs)], attachLocs[-1])\n",
    "  }\n",
    "  \n",
    "  if (is.null(attachLocs)) return(list(body = msg, attachInfo = NULL) )\n",
    "  else return(list(body = msg, \n",
    "                   attachDF = data.frame(aLen = attachLens, \n",
    "                                         aType = attachTypes,\n",
    "                                         stringsAsFactors = FALSE)))                                \n",
    "}"
   ]
  },
  {
   "cell_type": "code",
   "execution_count": null,
   "metadata": {},
   "outputs": [],
   "source": [
    "bodyList = lapply(sampleSplit, function(msg) msg$body)\n",
    "attList = mapply(processAttach, bodyList[hasAttach], \n",
    "                 contentTypes[hasAttach], \n",
    "                 SIMPLIFY = FALSE)"
   ]
  },
  {
   "cell_type": "code",
   "execution_count": null,
   "metadata": {},
   "outputs": [],
   "source": [
    "lens = sapply(attList, function(processedA) \n",
    "                           processedA$attachDF$aLen)"
   ]
  },
  {
   "cell_type": "code",
   "execution_count": null,
   "metadata": {},
   "outputs": [],
   "source": [
    "head(lens)"
   ]
  },
  {
   "cell_type": "code",
   "execution_count": null,
   "metadata": {},
   "outputs": [],
   "source": [
    "attList[[2]]$attachDF"
   ]
  },
  {
   "cell_type": "code",
   "execution_count": null,
   "metadata": {},
   "outputs": [],
   "source": [
    "body = bodyList[hasAttach][[2]]\n",
    "length(body)"
   ]
  },
  {
   "cell_type": "code",
   "execution_count": null,
   "metadata": {},
   "outputs": [],
   "source": [
    "body[35:45]"
   ]
  },
  {
   "cell_type": "code",
   "execution_count": null,
   "metadata": {},
   "outputs": [],
   "source": [
    "processAttach = function(body, contentType){\n",
    "\n",
    "  n = length(body)\n",
    "  boundary = getBoundary(contentType)\n",
    " \n",
    "  bString = paste(\"--\", boundary, sep = \"\")\n",
    "  bStringLocs = which(bString == body)\n",
    "  eString = paste(\"--\", boundary, \"--\", sep = \"\")\n",
    "  eStringLoc = which(eString == body)\n",
    "  \n",
    "  if (length(eStringLoc) == 0) eStringLoc = n\n",
    "  if (length(bStringLocs) <= 1) {\n",
    "    attachLocs = NULL\n",
    "    msgLastLine = n\n",
    "    if (length(bStringLocs) == 0) bStringLocs = 0\n",
    "  } else {\n",
    "    attachLocs = c(bStringLocs[ -1 ],  eStringLoc)\n",
    "    msgLastLine = bStringLocs[2] - 1\n",
    "  }\n",
    "  \n",
    "  msg = body[ (bStringLocs[1] + 1) : msgLastLine] \n",
    "  if ( eStringLoc < n )\n",
    "    msg = c(msg, body[ (eStringLoc + 1) : n ])\n",
    "  \n",
    "  if ( !is.null(attachLocs) ) {\n",
    "    attachLens = diff(attachLocs, lag = 1) \n",
    "    attachTypes = mapply(function(begL, endL) {\n",
    "      CTloc = grep(\"^[Cc]ontent-[Tt]ype\", body[ (begL + 1) : (endL - 1)])\n",
    "      if ( length(CTloc) == 0 ) {\n",
    "        MIMEType = NA\n",
    "      } else {\n",
    "        CTval = body[ begL + CTloc[1] ]\n",
    "        CTval = gsub('\"', \"\", CTval )\n",
    "        MIMEType = sub(\" *[Cc]ontent-[Tt]ype: *([^;]*);?.*\", \"\\\\1\", CTval)   \n",
    "      }\n",
    "      return(MIMEType)\n",
    "    }, attachLocs[-length(attachLocs)], attachLocs[-1])\n",
    "  }\n",
    "  \n",
    "  if (is.null(attachLocs)) return(list(body = msg, attachDF = NULL) )\n",
    "  return(list(body = msg, \n",
    "             attachDF = data.frame(aLen = attachLens, \n",
    "                                     aType = unlist(attachTypes),\n",
    "                                     stringsAsFactors = FALSE)))                                \n",
    "}     "
   ]
  },
  {
   "cell_type": "code",
   "execution_count": null,
   "metadata": {},
   "outputs": [],
   "source": [
    "readEmail = function(dirName) {\n",
    "       # retrieve the names of files in directory\n",
    "  fileNames = list.files(dirName, full.names = TRUE)\n",
    "       # drop files that are not email\n",
    "  notEmail = grep(\"cmds$\", fileNames)\n",
    "  if ( length(notEmail) > 0) fileNames = fileNames[ - notEmail ]\n",
    "\n",
    "       # read all files in the directory\n",
    "  lapply(fileNames, readLines, encoding = \"latin1\")\n",
    "}"
   ]
  },
  {
   "cell_type": "code",
   "execution_count": null,
   "metadata": {},
   "outputs": [],
   "source": [
    "processAllEmail = function(dirName, isSpam = FALSE)\n",
    "{\n",
    "       # read all files in the directory\n",
    "  messages = readEmail(dirName)\n",
    "  fileNames = names(messages)\n",
    "  n = length(messages)\n",
    "  \n",
    "       # split header from body\n",
    "  eSplit = lapply(messages, splitMessage)\n",
    "  rm(messages)\n",
    "\n",
    "       # process header as named character vector\n",
    "  headerList = lapply(eSplit, function(msg) \n",
    "                                 processHeader(msg$header))\n",
    "  \n",
    "       # extract content-type key\n",
    "  contentTypes = sapply(headerList, function(header) \n",
    "                                       header[\"Content-Type\"])\n",
    "  \n",
    "       # extract the body\n",
    "  bodyList = lapply(eSplit, function(msg) msg$body)\n",
    "  rm(eSplit)\n",
    "\n",
    "       # which email have attachments\n",
    "  hasAttach = grep(\"^ *multi\", tolower(contentTypes))\n",
    "\n",
    "       # get summary stats for attachments and the shorter body\n",
    "  attList = mapply(processAttach, bodyList[hasAttach], \n",
    "                   contentTypes[hasAttach], SIMPLIFY = FALSE)\n",
    "  \n",
    "  bodyList[hasAttach] = lapply(attList, function(attEl) \n",
    "                                           attEl$body)\n",
    " \n",
    "  attachInfo = vector(\"list\", length = n )\n",
    "  attachInfo[ hasAttach ] = lapply(attList, \n",
    "                                  function(attEl) attEl$attachDF)\n",
    " \n",
    "       # prepare return structure\n",
    "  emailList = mapply(function(header, body, attach, isSpam) {\n",
    "                       list(isSpam = isSpam, header = header, \n",
    "                            body = body, attach = attach)\n",
    "                     },\n",
    "                     headerList, bodyList, attachInfo, \n",
    "                     rep(isSpam, n), SIMPLIFY = FALSE )\n",
    "  names(emailList) = fileNames\n",
    "  \n",
    "  invisible(emailList)\n",
    "}"
   ]
  },
  {
   "cell_type": "code",
   "execution_count": null,
   "metadata": {},
   "outputs": [],
   "source": [
    "emailStruct = mapply(processAllEmail, fullDirNames,\n",
    "                     isSpam = rep( c(FALSE, TRUE), 3:2))      \n",
    "emailStruct = unlist(emailStruct, recursive = FALSE)"
   ]
  },
  {
   "cell_type": "code",
   "execution_count": null,
   "metadata": {},
   "outputs": [],
   "source": [
    "sampleStruct = emailStruct[ indx ]"
   ]
  },
  {
   "cell_type": "code",
   "execution_count": null,
   "metadata": {},
   "outputs": [],
   "source": [
    "save(emailStruct, file=\"emailXX.rda\")"
   ]
  },
  {
   "cell_type": "code",
   "execution_count": null,
   "metadata": {},
   "outputs": [],
   "source": [
    "header = sampleStruct[[1]]$header\n",
    "subject = header[\"Subject\"]\n",
    "els = strsplit(subject, \"\")\n",
    "all(els %in% LETTERS)"
   ]
  },
  {
   "cell_type": "code",
   "execution_count": null,
   "metadata": {},
   "outputs": [],
   "source": [
    "testSubject = c(\"DEAR MADAME\", \"WINNER!\", \"\")"
   ]
  },
  {
   "cell_type": "code",
   "execution_count": null,
   "metadata": {},
   "outputs": [],
   "source": [
    "els = strsplit(testSubject, \"\")\n",
    "sapply(els, function(subject) all(subject %in% LETTERS))"
   ]
  },
  {
   "cell_type": "code",
   "execution_count": null,
   "metadata": {},
   "outputs": [],
   "source": [
    "gsub(\"[[:punct:] ]\", \"\", testSubject)"
   ]
  },
  {
   "cell_type": "code",
   "execution_count": null,
   "metadata": {},
   "outputs": [],
   "source": [
    "gsub(\"[^[:alpha:]]\", \"\", testSubject)"
   ]
  },
  {
   "cell_type": "code",
   "execution_count": null,
   "metadata": {},
   "outputs": [],
   "source": [
    "isYelling = function(msg) {\n",
    "  if ( \"Subject\" %in% names(msg$header) ) {\n",
    "     el = gsub(\"[^[:alpha:]]\", \"\", msg$header[\"Subject\"])\n",
    "     if (nchar(el) > 0) \n",
    "        nchar(gsub(\"[A-Z]\", \"\", el)) < 1\n",
    "     else \n",
    "        FALSE\n",
    "  } else \n",
    "    NA\n",
    "}"
   ]
  },
  {
   "cell_type": "code",
   "execution_count": null,
   "metadata": {},
   "outputs": [],
   "source": [
    "perCaps =\n",
    "function(msg)\n",
    "{\n",
    "  body = paste(msg$body, collapse = \"\")\n",
    "\n",
    "       # Return NA if the body of the message is \"empty\"\n",
    "  if(length(body) == 0 || nchar(body) == 0) return(NA)\n",
    "\n",
    "       # Eliminate non-alpha characters\n",
    "  body = gsub(\"[^[:alpha:]]\", \"\", body)\n",
    "  capText = gsub(\"[^A-Z]\", \"\", body)\n",
    "  100 * nchar(capText)/nchar(body)\n",
    "}"
   ]
  },
  {
   "cell_type": "code",
   "execution_count": null,
   "metadata": {},
   "outputs": [],
   "source": [
    "sapply(sampleStruct, perCaps)"
   ]
  },
  {
   "cell_type": "code",
   "execution_count": null,
   "metadata": {},
   "outputs": [],
   "source": [
    "funcList = list( \n",
    " isRe = function(msg) {\n",
    "       \"Subject\" %in% names(msg$header) &&\n",
    "         length(grep(\"^[ \\t]*Re:\", msg$header[[\"Subject\"]])) > 0\n",
    "  },\n",
    "  numLines = function(msg) \n",
    "                length(msg$body),\n",
    "  isYelling = function(msg) {\n",
    "    if ( \"Subject\" %in% names(msg$header) ) {\n",
    "       el = gsub(\"[^[:alpha:]]\", \"\", msg$header[\"Subject\"])\n",
    "       if (nchar(el) > 0) \n",
    "         nchar(gsub(\"[A-Z]\", \"\", el)) < 1\n",
    "       else \n",
    "         FALSE\n",
    "    }\n",
    "    else NA\n",
    "  },\n",
    "  perCaps = function(msg) {\n",
    "    body = paste(msg$body, collapse = \"\")\n",
    "\n",
    "         # Return NA if the body of the message is \"empty\"\n",
    "    if(length(body) == 0 || nchar(body) == 0) return(NA)\n",
    "\n",
    "         # Eliminate non-alpha characters\n",
    "    body = gsub(\"[^[:alpha:]]\", \"\", body)\n",
    "    capText = gsub(\"[^A-Z]\", \"\", body)\n",
    "    100 * nchar(capText)/nchar(body)\n",
    "  }\n",
    ")"
   ]
  },
  {
   "cell_type": "code",
   "execution_count": null,
   "metadata": {},
   "outputs": [],
   "source": [
    "lapply(funcList, function(func) \n",
    "                   sapply(sampleStruct, function(msg) func(msg)))"
   ]
  },
  {
   "cell_type": "code",
   "execution_count": null,
   "metadata": {},
   "outputs": [],
   "source": [
    "createDerivedDF =\n",
    "function(email = emailStruct, operations = funcList, \n",
    "         verbose = FALSE)\n",
    "{\n",
    "  els = lapply(names(operations),\n",
    "               function(id) {\n",
    "                 if(verbose) print(id)\n",
    "                 e = operations[[id]]\n",
    "                 v = if(is.function(e)) \n",
    "                        sapply(email, e)\n",
    "                      else \n",
    "                        sapply(email, function(msg) eval(e))\n",
    "                 v\n",
    "         })\n",
    "\n",
    "   df = as.data.frame(els)\n",
    "   names(df) = names(operations)\n",
    "   invisible(df)\n",
    "}"
   ]
  },
  {
   "cell_type": "code",
   "execution_count": null,
   "metadata": {},
   "outputs": [],
   "source": [
    "sampleDF = createDerivedDF(sampleStruct)\n",
    "head(sampleDF)"
   ]
  },
  {
   "cell_type": "code",
   "execution_count": null,
   "metadata": {},
   "outputs": [],
   "source": [
    "funcList = list(\n",
    "  isSpam =\n",
    "    expression(msg$isSpam)\n",
    "  ,\n",
    "  isRe =\n",
    "    function(msg) {\n",
    "      # Can have a Fwd: Re:  ... but we are not looking for this here.\n",
    "      # We may want to look at In-Reply-To field.\n",
    "      \"Subject\" %in% names(msg$header) && \n",
    "        length(grep(\"^[ \\t]*Re:\", msg$header[[\"Subject\"]])) > 0\n",
    "    }\n",
    "  ,\n",
    "  numLines =\n",
    "    function(msg) length(msg$body)\n",
    "  ,\n",
    "  bodyCharCt =\n",
    "    function(msg)\n",
    "      sum(nchar(msg$body))\n",
    "  ,\n",
    "  underscore =\n",
    "    function(msg) {\n",
    "      if(!\"Reply-To\" %in% names(msg$header))\n",
    "        return(FALSE)\n",
    "      \n",
    "      txt <- msg$header[[\"Reply-To\"]]\n",
    "      length(grep(\"_\", txt)) > 0  && \n",
    "        length(grep(\"[0-9A-Za-z]+\", txt)) > 0\n",
    "    }\n",
    "  ,\n",
    "  subExcCt = \n",
    "    function(msg) {\n",
    "      x = msg$header[\"Subject\"]\n",
    "      if(length(x) == 0 || sum(nchar(x)) == 0 || is.na(x))\n",
    "        return(NA)\n",
    "      \n",
    "      sum(nchar(gsub(\"[^!]\",\"\", x)))\n",
    "    }\n",
    "  ,\n",
    "  subQuesCt =\n",
    "    function(msg) {\n",
    "      x = msg$header[\"Subject\"]\n",
    "      if(length(x) == 0 || sum(nchar(x)) == 0 || is.na(x))\n",
    "        return(NA)\n",
    "      \n",
    "      sum(nchar(gsub(\"[^?]\",\"\", x)))\n",
    "    }\n",
    "  ,\n",
    "  numAtt = \n",
    "    function(msg) {\n",
    "      if (is.null(msg$attach)) return(0)\n",
    "      else nrow(msg$attach)\n",
    "    }\n",
    "   \n",
    "  ,\n",
    "  priority =\n",
    "    function(msg) {\n",
    "      ans <- FALSE\n",
    "      # Look for names X-Priority, Priority, X-Msmail-Priority\n",
    "      # Look for high any where in the value\n",
    "      ind = grep(\"priority\", tolower(names(msg$header)))\n",
    "      if (length(ind) > 0)  {\n",
    "        ans <- length(grep(\"high\", tolower(msg$header[ind]))) >0\n",
    "      }\n",
    "      ans\n",
    "    }\n",
    "  ,\n",
    "  numRec =\n",
    "    function(msg) {\n",
    "      # unique or not.\n",
    "      els = getMessageRecipients(msg$header)\n",
    "      \n",
    "      if(length(els) == 0)\n",
    "        return(NA)\n",
    "      \n",
    "      # Split each line by \",\"  and in each of these elements, look for\n",
    "      # the @ sign. This handles\n",
    "      tmp = sapply(strsplit(els, \",\"), function(x) grep(\"@\", x))\n",
    "      sum(sapply(tmp, length))\n",
    "    }\n",
    "  ,\n",
    "  perCaps =\n",
    "    function(msg)\n",
    "    {\n",
    "      body = paste(msg$body, collapse = \"\")\n",
    "      \n",
    "      # Return NA if the body of the message is \"empty\"\n",
    "      if(length(body) == 0 || nchar(body) == 0) return(NA)\n",
    "      \n",
    "      # Eliminate non-alpha characters and empty lines \n",
    "      body = gsub(\"[^[:alpha:]]\", \"\", body)\n",
    "      els = unlist(strsplit(body, \"\"))\n",
    "      ctCap = sum(els %in% LETTERS)\n",
    "      100 * ctCap / length(els)\n",
    "    }\n",
    "  ,\n",
    "  isInReplyTo =\n",
    "    function(msg)\n",
    "    {\n",
    "      \"In-Reply-To\" %in% names(msg$header)\n",
    "    }\n",
    "  ,\n",
    "  sortedRec =\n",
    "    function(msg)\n",
    "    {\n",
    "      ids = getMessageRecipients(msg$header)\n",
    "      all(sort(ids) == ids)\n",
    "    }\n",
    "  ,\n",
    "  subPunc =\n",
    "    function(msg)\n",
    "    {\n",
    "      if(\"Subject\" %in% names(msg$header)) {\n",
    "        el = gsub(\"['/.:@-]\", \"\", msg$header[\"Subject\"])\n",
    "        length(grep(\"[A-Za-z][[:punct:]]+[A-Za-z]\", el)) > 0\n",
    "      }\n",
    "      else\n",
    "        FALSE\n",
    "    },\n",
    "  hour =\n",
    "    function(msg)\n",
    "    {\n",
    "      date = msg$header[\"Date\"]\n",
    "      if ( is.null(date) ) return(NA)\n",
    "      # Need to handle that there may be only one digit in the hour\n",
    "      locate = regexpr(\"[0-2]?[0-9]:[0-5][0-9]:[0-5][0-9]\", date)\n",
    "      \n",
    "      if (locate < 0)\n",
    "        locate = regexpr(\"[0-2]?[0-9]:[0-5][0-9]\", date)\n",
    "      if (locate < 0) return(NA)\n",
    "      \n",
    "      hour = substring(date, locate, locate+1)\n",
    "      hour = as.numeric(gsub(\":\", \"\", hour))\n",
    "      \n",
    "      locate = regexpr(\"PM\", date)\n",
    "      if (locate > 0) hour = hour + 12\n",
    "      \n",
    "      locate = regexpr(\"[+-][0-2][0-9]00\", date)\n",
    "      if (locate < 0) offset = 0\n",
    "      else offset = as.numeric(substring(date, locate, locate + 2))\n",
    "      (hour - offset) %% 24\n",
    "    }\n",
    "  ,\n",
    "  multipartText =\n",
    "    function(msg)\n",
    "    {\n",
    "      if (is.null(msg$attach)) return(FALSE)\n",
    "      numAtt = nrow(msg$attach)\n",
    "      \n",
    "      types = \n",
    "        length(grep(\"(html|plain|text)\", msg$attach$aType)) > (numAtt/2)\n",
    "    }\n",
    "  ,\n",
    "  hasImages =\n",
    "    function(msg)\n",
    "    {\n",
    "      if (is.null(msg$attach)) return(FALSE)\n",
    "      \n",
    "      length(grep(\"^ *image\", tolower(msg$attach$aType))) > 0\n",
    "    }\n",
    "  ,\n",
    "  isPGPsigned =\n",
    "    function(msg)\n",
    "    {\n",
    "      if (is.null(msg$attach)) return(FALSE)\n",
    "      \n",
    "      length(grep(\"pgp\", tolower(msg$attach$aType))) > 0\n",
    "    },\n",
    "  perHTML =\n",
    "    function(msg)\n",
    "    {\n",
    "      if(! (\"Content-Type\" %in% names(msg$header))) return(0)\n",
    "      \n",
    "      el = tolower(msg$header[\"Content-Type\"]) \n",
    "      if (length(grep(\"html\", el)) == 0) return(0)\n",
    "      \n",
    "      els = gsub(\"[[:space:]]\", \"\", msg$body)\n",
    "      totchar = sum(nchar(els))\n",
    "      totplain = sum(nchar(gsub(\"<[^<]+>\", \"\", els )))\n",
    "      100 * (totchar - totplain)/totchar\n",
    "    },\n",
    "  subSpamWords =\n",
    "    function(msg)\n",
    "    {\n",
    "      if(\"Subject\" %in% names(msg$header))\n",
    "        length(grep(paste(SpamCheckWords, collapse = \"|\"), \n",
    "                    tolower(msg$header[\"Subject\"]))) > 0\n",
    "      else\n",
    "        NA\n",
    "    }\n",
    "  ,\n",
    "  subBlanks =\n",
    "    function(msg)\n",
    "    {\n",
    "      if(\"Subject\" %in% names(msg$header)) {\n",
    "        x = msg$header[\"Subject\"]\n",
    "        # should we count blank subject line as 0 or 1 or NA?\n",
    "        if (nchar(x) == 1) return(0)\n",
    "        else 100 *(1 - (nchar(gsub(\"[[:blank:]]\", \"\", x))/nchar(x)))\n",
    "      } else NA\n",
    "    }\n",
    "  ,\n",
    "  noHost =\n",
    "    function(msg)\n",
    "    {\n",
    "      # Or use partial matching.\n",
    "      idx = pmatch(\"Message-\", names(msg$header))\n",
    "      \n",
    "      if(is.na(idx)) return(NA)\n",
    "      \n",
    "      tmp = msg$header[idx]\n",
    "      return(length(grep(\".*@[^[:space:]]+\", tmp)) ==  0)\n",
    "    }\n",
    "  ,\n",
    "  numEnd =\n",
    "    function(msg)\n",
    "    {\n",
    "      # If we just do a grep(\"[0-9]@\",  )\n",
    "      # we get matches on messages that have a From something like\n",
    "      # \" \\\"marty66@aol.com\\\" <synjan@ecis.com>\"\n",
    "      # and the marty66 is the \"user's name\" not the login\n",
    "      # So we can be more precise if we want.\n",
    "      x = names(msg$header)\n",
    "      if ( !( \"From\" %in% x) ) return(NA)\n",
    "      login = gsub(\"^.*<\", \"\", msg$header[\"From\"])\n",
    "      if ( is.null(login) ) \n",
    "        login = gsub(\"^.*<\", \"\", msg$header[\"X-From\"])\n",
    "      if ( is.null(login) ) return(NA)\n",
    "      login = strsplit(login, \"@\")[[1]][1]\n",
    "      length(grep(\"[0-9]+$\", login)) > 0\n",
    "    },\n",
    "  isYelling =\n",
    "    function(msg)\n",
    "    {\n",
    "      if ( \"Subject\" %in% names(msg$header) ) {\n",
    "        el = gsub(\"[^[:alpha:]]\", \"\", msg$header[\"Subject\"])\n",
    "        if (nchar(el) > 0) nchar(gsub(\"[A-Z]\", \"\", el)) < 1\n",
    "        else FALSE\n",
    "      }\n",
    "      else\n",
    "        NA\n",
    "    },\n",
    "  forwards =\n",
    "    function(msg)\n",
    "    {\n",
    "      x = msg$body\n",
    "      if(length(x) == 0 || sum(nchar(x)) == 0)\n",
    "        return(NA)\n",
    "      \n",
    "      ans = length(grep(\"^[[:space:]]*>\", x))\n",
    "      100 * ans / length(x)\n",
    "    },\n",
    "  isOrigMsg =\n",
    "    function(msg)\n",
    "    {\n",
    "      x = msg$body\n",
    "      if(length(x) == 0) return(NA)\n",
    "      \n",
    "      length(grep(\"^[^[:alpha:]]*original[^[:alpha:]]+message[^[:alpha:]]*$\", \n",
    "                  tolower(x) ) ) > 0\n",
    "    },\n",
    "  isDear =\n",
    "    function(msg)\n",
    "    {\n",
    "      x = msg$body\n",
    "      if(length(x) == 0) return(NA)\n",
    "      \n",
    "      length(grep(\"^[[:blank:]]*dear +(sir|madam)\\\\>\", \n",
    "                  tolower(x))) > 0\n",
    "    },\n",
    "  isWrote =\n",
    "    function(msg)\n",
    "    {\n",
    "      x = msg$body\n",
    "      if(length(x) == 0) return(NA)\n",
    "      \n",
    "      length(grep(\"(wrote|schrieb|ecrit|escribe):\", tolower(x) )) > 0\n",
    "    },\n",
    "  avgWordLen =\n",
    "    function(msg)\n",
    "    {\n",
    "      txt = paste(msg$body, collapse = \" \")\n",
    "      if(length(txt) == 0 || sum(nchar(txt)) == 0) return(0)\n",
    "      \n",
    "      txt = gsub(\"[^[:alpha:]]\", \" \", txt)\n",
    "      words = unlist(strsplit(txt, \"[[:blank:]]+\"))\n",
    "      wordLens = nchar(words)\n",
    "      mean(wordLens[ wordLens > 0 ])\n",
    "    }\n",
    "  ,\n",
    "  numDlr =\n",
    "    function(msg)\n",
    "    {\n",
    "      x = paste(msg$body, collapse = \"\")\n",
    "      if(length(x) == 0 || sum(nchar(x)) == 0)\n",
    "        return(NA)\n",
    "      \n",
    "      nchar(gsub(\"[^$]\",\"\", x))\n",
    "    }\n",
    ")"
   ]
  },
  {
   "cell_type": "code",
   "execution_count": null,
   "metadata": {},
   "outputs": [],
   "source": [
    "SpamCheckWords =\n",
    "  c(\"viagra\", \"pounds\", \"free\", \"weight\", \"guarantee\", \"million\", \n",
    "    \"dollars\", \"credit\", \"risk\", \"prescription\", \"generic\", \"drug\",\n",
    "    \"financial\", \"save\", \"dollar\", \"erotic\", \"million\", \"barrister\",\n",
    "    \"beneficiary\", \"easy\", \n",
    "    \"money back\", \"money\", \"credit card\")"
   ]
  },
  {
   "cell_type": "code",
   "execution_count": null,
   "metadata": {},
   "outputs": [],
   "source": [
    "getMessageRecipients =\n",
    "  function(header)\n",
    "  {\n",
    "    c(if(\"To\" %in% names(header))  header[[\"To\"]] else character(0),\n",
    "      if(\"Cc\" %in% names(header))  header[[\"Cc\"]] else character(0),\n",
    "      if(\"Bcc\" %in% names(header)) header[[\"Bcc\"]] else character(0)\n",
    "    )\n",
    "  }"
   ]
  },
  {
   "cell_type": "code",
   "execution_count": null,
   "metadata": {},
   "outputs": [],
   "source": [
    "emailDF = createDerivedDF(emailStruct)\n",
    "dim(emailDF)\n",
    "#save(emailDF, file = \"spamAssassinDerivedDF.rda\")"
   ]
  },
  {
   "cell_type": "code",
   "execution_count": null,
   "metadata": {},
   "outputs": [],
   "source": [
    "load(\"Data/spamAssassinDerivedDF.rda\")\n",
    "dim(emailDF)"
   ]
  },
  {
   "cell_type": "code",
   "execution_count": null,
   "metadata": {},
   "outputs": [],
   "source": [
    "perCaps2 =\n",
    "function(msg)\n",
    "{\n",
    "  body = paste(msg$body, collapse = \"\")\n",
    "\n",
    "       # Return NA if the body of the message is \"empty\"\n",
    "  if(length(body) == 0 || nchar(body) == 0) return(NA)\n",
    "\n",
    "       # Eliminate non-alpha characters and empty lines \n",
    "  body = gsub(\"[^[:alpha:]]\", \"\", body)\n",
    "  els = unlist(strsplit(body, \"\"))\n",
    "  ctCap = sum(els %in% LETTERS)\n",
    "  100 * ctCap / length(els)\n",
    "}"
   ]
  },
  {
   "cell_type": "code",
   "execution_count": null,
   "metadata": {},
   "outputs": [],
   "source": [
    "pC = sapply(emailStruct, perCaps)\n",
    "pC2 = sapply(emailStruct, perCaps2)\n",
    "identical(pC, pC2)"
   ]
  },
  {
   "cell_type": "code",
   "execution_count": null,
   "metadata": {},
   "outputs": [],
   "source": [
    "indNA = which(is.na(emailDF$subExcCt))"
   ]
  },
  {
   "cell_type": "code",
   "execution_count": null,
   "metadata": {},
   "outputs": [],
   "source": [
    "indNoSubject = which(sapply(emailStruct, \n",
    "                            function(msg) \n",
    "                              !(\"Subject\" %in% names(msg$header))))"
   ]
  },
  {
   "cell_type": "code",
   "execution_count": null,
   "metadata": {},
   "outputs": [],
   "source": [
    "all(indNA == indNoSubject)"
   ]
  },
  {
   "cell_type": "code",
   "execution_count": null,
   "metadata": {},
   "outputs": [],
   "source": [
    "all(emailDF$bodyCharCt > emailDF$numLines)"
   ]
  },
  {
   "cell_type": "code",
   "execution_count": null,
   "metadata": {},
   "outputs": [],
   "source": [
    "x.at = c(1,10,100,1000,10000,100000)\n",
    "y.at = c(1, 5, 10, 50, 100, 500, 5000)\n",
    "nL = 1 + emailDF$numLines\n",
    "nC = 1 + emailDF$bodyCharCt\n",
    "pdf(\"ScatterPlotNumLinesNumChars.pdf\", width = 6, height = 4.5)\n",
    "plot(nL ~ nC, log = \"xy\", pch=\".\", xlim=c(1,100000), axes = FALSE,\n",
    "     xlab = \"Number of Characters\", ylab = \"Number of Lines\")\n",
    "box() \n",
    "axis(1, at = x.at, labels = formatC(x.at, digits = 0, format=\"d\"))\n",
    "axis(2, at = y.at, labels = formatC(y.at, digits = 0, format=\"d\")) \n",
    "abline(a=0, b=1, col=\"red\", lwd = 2)"
   ]
  },
  {
   "cell_type": "code",
   "execution_count": null,
   "metadata": {},
   "outputs": [],
   "source": [
    "dev.off()"
   ]
  },
  {
   "cell_type": "code",
   "execution_count": null,
   "metadata": {},
   "outputs": [],
   "source": [
    "pdf(\"SPAM_boxplotsPercentCaps.pdf\", width = 5, height = 5)"
   ]
  },
  {
   "cell_type": "code",
   "execution_count": null,
   "metadata": {},
   "outputs": [],
   "source": [
    "percent = emailDF$perCaps\n",
    "isSpamLabs = factor(emailDF$isSpam, labels = c(\"ham\", \"spam\"))\n",
    "boxplot(log(1 + percent) ~ isSpamLabs,\n",
    "        ylab = \"Percent Capitals (log)\")"
   ]
  },
  {
   "cell_type": "code",
   "execution_count": null,
   "metadata": {},
   "outputs": [],
   "source": [
    "dev.off()"
   ]
  },
  {
   "cell_type": "code",
   "execution_count": null,
   "metadata": {},
   "outputs": [],
   "source": [
    "logPerCapsSpam = log(1 + emailDF$perCaps[ emailDF$isSpam ])\n",
    "logPerCapsHam = log(1 + emailDF$perCaps[ !emailDF$isSpam ])"
   ]
  },
  {
   "cell_type": "code",
   "execution_count": null,
   "metadata": {},
   "outputs": [],
   "source": [
    "qqplot(logPerCapsSpam, logPerCapsHam, \n",
    "       xlab = \"Regular Email\", ylab = \"Spam Email\", \n",
    "       main = \"Percentage of Capital Letters (log scale)\",\n",
    "       pch = 19, cex = 0.3)"
   ]
  },
  {
   "cell_type": "code",
   "execution_count": null,
   "metadata": {},
   "outputs": [],
   "source": [
    "pdf(\"SPAM_scatterplotPercentCapsTotChars.pdf\", width = 8, height = 6)"
   ]
  },
  {
   "cell_type": "code",
   "execution_count": null,
   "metadata": {},
   "outputs": [],
   "source": [
    "colI = c(\"#4DAF4A80\", \"#984EA380\")\n",
    "logBodyCharCt = log(1 + emailDF$bodyCharCt)\n",
    "logPerCaps = log(1 + emailDF$perCaps)\n",
    "plot(logPerCaps ~ logBodyCharCt, xlab = \"Total Characters (log)\",\n",
    "     ylab = \"Percent Capitals (log)\",\n",
    "     col = colI[1 + emailDF$isSpam],\n",
    "     xlim = c(2,12), pch = 19, cex = 0.5)"
   ]
  },
  {
   "cell_type": "code",
   "execution_count": null,
   "metadata": {},
   "outputs": [],
   "source": [
    "dev.off()"
   ]
  },
  {
   "cell_type": "code",
   "execution_count": null,
   "metadata": {},
   "outputs": [],
   "source": [
    "table(emailDF$numAtt, isSpamLabs)"
   ]
  },
  {
   "cell_type": "code",
   "execution_count": null,
   "metadata": {},
   "outputs": [],
   "source": [
    "pdf(\"SPAM_mosaicPlots.pdf\", width = 8, height = 4)"
   ]
  },
  {
   "cell_type": "code",
   "execution_count": null,
   "metadata": {},
   "outputs": [],
   "source": [
    "oldPar = par(mfrow = c(1, 2), mar = c(1,1,1,1))"
   ]
  },
  {
   "cell_type": "code",
   "execution_count": null,
   "metadata": {},
   "outputs": [],
   "source": [
    "colM = c(\"#E41A1C80\", \"#377EB880\")\n",
    "isRe = factor(emailDF$isRe, labels = c(\"no Re:\", \"Re:\"))\n",
    "mosaicplot(table(isSpamLabs, isRe), main = \"\",\n",
    "           xlab = \"\", ylab = \"\", color = colM)"
   ]
  },
  {
   "cell_type": "code",
   "execution_count": null,
   "metadata": {},
   "outputs": [],
   "source": [
    "fromNE = factor(emailDF$numEnd, labels = c(\"No #\", \"#\"))\n",
    "mosaicplot(table(isSpamLabs, fromNE), color = colM,\n",
    "           main = \"\", xlab=\"\", ylab = \"\")\n"
   ]
  },
  {
   "cell_type": "code",
   "execution_count": null,
   "metadata": {},
   "outputs": [],
   "source": [
    "par(oldPar)"
   ]
  },
  {
   "cell_type": "code",
   "execution_count": null,
   "metadata": {},
   "outputs": [],
   "source": [
    "dev.off()"
   ]
  },
  {
   "cell_type": "code",
   "execution_count": null,
   "metadata": {},
   "outputs": [],
   "source": [
    "library(rpart)"
   ]
  },
  {
   "cell_type": "code",
   "execution_count": null,
   "metadata": {},
   "outputs": [],
   "source": [
    "setupRpart = function(data) {\n",
    "  logicalVars = which(sapply(data, is.logical))\n",
    "  facVars = lapply(data[ , logicalVars], \n",
    "                   function(x) {\n",
    "                      x = as.factor(x)\n",
    "                      levels(x) = c(\"F\", \"T\")\n",
    "                      x\n",
    "                   })\n",
    "  cbind(facVars, data[ , - logicalVars])\n",
    "}"
   ]
  },
  {
   "cell_type": "code",
   "execution_count": null,
   "metadata": {},
   "outputs": [],
   "source": [
    "emailDFrp = setupRpart(emailDF)"
   ]
  },
  {
   "cell_type": "code",
   "execution_count": null,
   "metadata": {},
   "outputs": [],
   "source": [
    "set.seed(418910)\n",
    "testSpamIdx = sample(numSpam, size = floor(numSpam/3))\n",
    "testHamIdx = sample(numHam, size = floor(numHam/3))"
   ]
  },
  {
   "cell_type": "code",
   "execution_count": null,
   "metadata": {},
   "outputs": [],
   "source": [
    "testDF = \n",
    "  rbind( emailDFrp[ emailDFrp$isSpam == \"T\", ][testSpamIdx, ],\n",
    "         emailDFrp[emailDFrp$isSpam == \"F\", ][testHamIdx, ] )"
   ]
  },
  {
   "cell_type": "code",
   "execution_count": null,
   "metadata": {},
   "outputs": [],
   "source": [
    "trainDF =\n",
    "  rbind( emailDFrp[emailDFrp$isSpam == \"T\", ][-testSpamIdx, ], \n",
    "         emailDFrp[emailDFrp$isSpam == \"F\", ][-testHamIdx, ])"
   ]
  },
  {
   "cell_type": "code",
   "execution_count": null,
   "metadata": {},
   "outputs": [],
   "source": [
    "rpartFit = rpart(isSpam ~ ., data = trainDF, method = \"class\")"
   ]
  },
  {
   "cell_type": "code",
   "execution_count": null,
   "metadata": {},
   "outputs": [],
   "source": [
    "library(rpart.plot)\n",
    "prp(rpartFit, extra = 1)"
   ]
  },
  {
   "cell_type": "code",
   "execution_count": null,
   "metadata": {},
   "outputs": [],
   "source": [
    "library(rpart.plot)\n",
    "pdf(\"SPAM_rpartTree.pdf\", width = 7, height = 7)"
   ]
  },
  {
   "cell_type": "code",
   "execution_count": null,
   "metadata": {},
   "outputs": [],
   "source": [
    "prp(rpartFit, extra = 1)"
   ]
  },
  {
   "cell_type": "code",
   "execution_count": null,
   "metadata": {},
   "outputs": [],
   "source": [
    "dev.off()"
   ]
  },
  {
   "cell_type": "code",
   "execution_count": null,
   "metadata": {},
   "outputs": [],
   "source": [
    "predictions = predict(rpartFit, \n",
    "       newdata = testDF[, names(testDF) != \"isSpam\"],\n",
    "       type = \"class\")"
   ]
  },
  {
   "cell_type": "code",
   "execution_count": null,
   "metadata": {},
   "outputs": [],
   "source": [
    "predsForHam = predictions[ testDF$isSpam == \"F\" ]\n",
    "summary(predsForHam)"
   ]
  },
  {
   "cell_type": "code",
   "execution_count": null,
   "metadata": {},
   "outputs": [],
   "source": [
    "sum(predsForHam == \"T\") / length(predsForHam)"
   ]
  },
  {
   "cell_type": "code",
   "execution_count": null,
   "metadata": {},
   "outputs": [],
   "source": [
    "predsForSpam = predictions[ testDF$isSpam == \"T\" ]\n",
    "sum(predsForSpam == \"F\") / length(predsForSpam)"
   ]
  },
  {
   "cell_type": "code",
   "execution_count": null,
   "metadata": {},
   "outputs": [],
   "source": [
    "complexityVals = c(seq(0.00001, 0.0001, length=19),\n",
    "                   seq(0.0001, 0.001, length=19), \n",
    "                   seq(0.001, 0.005, length=9),\n",
    "                   seq(0.005, 0.01, length=9))"
   ]
  },
  {
   "cell_type": "code",
   "execution_count": null,
   "metadata": {},
   "outputs": [],
   "source": [
    "fits = lapply(complexityVals, function(x) {\n",
    "         rpartObj = rpart(isSpam ~ ., data = trainDF,\n",
    "                          method=\"class\", \n",
    "                          control = rpart.control(cp=x) )\n",
    "           \n",
    "         predict(rpartObj, \n",
    "                 newdata = testDF[ , names(testDF) != \"isSpam\"],\n",
    "                 type = \"class\")\n",
    "        })"
   ]
  },
  {
   "cell_type": "code",
   "execution_count": null,
   "metadata": {},
   "outputs": [],
   "source": [
    "spam = testDF$isSpam == \"T\""
   ]
  },
  {
   "cell_type": "code",
   "execution_count": null,
   "metadata": {},
   "outputs": [],
   "source": [
    "numSpam = sum(spam)"
   ]
  },
  {
   "cell_type": "code",
   "execution_count": null,
   "metadata": {},
   "outputs": [],
   "source": [
    "numHam = sum(!spam)"
   ]
  },
  {
   "cell_type": "code",
   "execution_count": null,
   "metadata": {},
   "outputs": [],
   "source": [
    "errs = sapply(fits, function(preds) {\n",
    "                      typeI = sum(preds[ !spam ] == \"T\") / numHam\n",
    "                      typeII = sum(preds[ spam ] == \"F\") / numSpam\n",
    "                      c(typeI = typeI, typeII = typeII)\n",
    "                     })"
   ]
  },
  {
   "cell_type": "code",
   "execution_count": null,
   "metadata": {},
   "outputs": [],
   "source": [
    "pdf(\"SPAM_rpartTypeIandII.pdf\", width = 8, height = 7)"
   ]
  },
  {
   "cell_type": "code",
   "execution_count": null,
   "metadata": {},
   "outputs": [],
   "source": [
    "library(RColorBrewer)"
   ]
  },
  {
   "cell_type": "code",
   "execution_count": null,
   "metadata": {},
   "outputs": [],
   "source": [
    "cols = brewer.pal(9, \"Set1\")[c(3, 4, 5)]"
   ]
  },
  {
   "cell_type": "code",
   "execution_count": null,
   "metadata": {},
   "outputs": [],
   "source": [
    "plot(errs[1,] ~ complexityVals, type=\"l\", col=cols[2], \n",
    "     lwd = 2, ylim = c(0,0.2), xlim = c(0,0.005), \n",
    "     ylab=\"Error\", xlab=\"complexity parameter values\")"
   ]
  },
  {
   "cell_type": "code",
   "execution_count": null,
   "metadata": {},
   "outputs": [],
   "source": [
    "points(errs[2,] ~ complexityVals, type=\"l\", col=cols[1], lwd = 2)"
   ]
  },
  {
   "cell_type": "code",
   "execution_count": null,
   "metadata": {},
   "outputs": [],
   "source": [
    "text(x =c(0.003, 0.0035), y = c(0.12, 0.05), \n",
    "     labels=c(\"Type II Error\", \"Type I Error\"))"
   ]
  },
  {
   "cell_type": "code",
   "execution_count": null,
   "metadata": {},
   "outputs": [],
   "source": [
    "minI = which(errs[1,] == min(errs[1,]))[1]"
   ]
  },
  {
   "cell_type": "code",
   "execution_count": null,
   "metadata": {},
   "outputs": [],
   "source": [
    "abline(v = complexityVals[minI], col =\"grey\", lty =3, lwd=2)"
   ]
  },
  {
   "cell_type": "code",
   "execution_count": null,
   "metadata": {},
   "outputs": [],
   "source": [
    "text(0.0007, errs[1, minI]+0.01, \n",
    "     formatC(errs[1, minI], digits = 2))"
   ]
  },
  {
   "cell_type": "code",
   "execution_count": null,
   "metadata": {},
   "outputs": [],
   "source": [
    "text(0.0007, errs[2, minI]+0.01, \n",
    "     formatC(errs[2, minI], digits = 3))"
   ]
  },
  {
   "cell_type": "code",
   "execution_count": null,
   "metadata": {},
   "outputs": [],
   "source": [
    "dev.off()"
   ]
  },
  {
   "cell_type": "code",
   "execution_count": null,
   "metadata": {},
   "outputs": [],
   "source": []
  },
  {
   "cell_type": "code",
   "execution_count": null,
   "metadata": {},
   "outputs": [],
   "source": []
  }
 ],
 "metadata": {
  "kernelspec": {
   "display_name": "R",
   "language": "R",
   "name": "ir"
  },
  "language_info": {
   "codemirror_mode": "r",
   "file_extension": ".r",
   "mimetype": "text/x-r-source",
   "name": "R",
   "pygments_lexer": "r",
   "version": "3.5.1"
  }
 },
 "nbformat": 4,
 "nbformat_minor": 2
}
