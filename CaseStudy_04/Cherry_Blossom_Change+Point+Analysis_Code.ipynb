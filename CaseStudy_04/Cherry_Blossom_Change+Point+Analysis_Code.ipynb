{
 "cells": [
  {
   "cell_type": "code",
   "execution_count": null,
   "metadata": {},
   "outputs": [],
   "source": [
    "#install.packages(XML)"
   ]
  },
  {
   "cell_type": "code",
   "execution_count": null,
   "metadata": {},
   "outputs": [],
   "source": [
    "library(r-xml)"
   ]
  },
  {
   "cell_type": "code",
   "execution_count": null,
   "metadata": {},
   "outputs": [],
   "source": [
    "ubase = \"http://www.cherryblossom.org/\"\n",
    "menURLs = \n",
    "  c(\"results/1999/cb99m.html\", \"results/2000/Cb003m.htm\", \"results/2001/oof_m.html\",\n",
    "    \"results/2002/oofm.htm\", \"results/2003/CB03-M.HTM\",\n",
    "    \"results/2004/men.htm\", \"results/2005/CB05-M.htm\", \n",
    "    \"results/2006/men.htm\", \"results/2007/men.htm\", \n",
    "    \"results/2008/men.htm\", \"results/2009/09cucb-M.htm\",\n",
    "    \"results/2010/2010cucb10m-m.htm\", \n",
    "    \"results/2011/2011cucb10m-m.htm\",\n",
    "    \"results/2012/2012cucb10m-m.htm\")\n",
    "\n",
    "urls = paste(ubase, menURLs, sep = \"\")\n",
    "\n",
    "urls[1:3]"
   ]
  },
  {
   "cell_type": "code",
   "execution_count": null,
   "metadata": {},
   "outputs": [],
   "source": [
    "extractResTable =\n",
    "  # takes a list of websites from the cherry blossom race\n",
    "  # a list of years corresponding to the year the result is for\n",
    "  # and the gender of the participant\n",
    "  # Retrieve data from web site, \n",
    "  # find the preformatted text,\n",
    "  # and write lines or return as a character vector.\n",
    "  # returns a list of strings corrsponding to lines in the web url\n",
    "  function(url = \"http://www.cherryblossom.org/results/2009/09cucb-F.htm\",\n",
    "           year = 1999, sex = \"male\", file = NULL)\n",
    "  {\n",
    "    doc = htmlParse(url)\n",
    "\n",
    "    if (year == 2000) {\n",
    "      # Get preformatted text from 4th font element\n",
    "      # The top file is ill formed so the <pre> search doesn't work.\n",
    "      ff = getNodeSet(doc, \"//font\")\n",
    "      txt = xmlValue(ff[[4]])\n",
    "      els = strsplit(txt, \"\\r\\n\")[[1]]\n",
    "    }\n",
    "    else if (year == 2009 & sex == \"male\") {\n",
    "      # Get preformatted text from <div class=\"Section1\"> element\n",
    "      # Each line of results is in a <pre> element\n",
    "      div1 = getNodeSet(doc, \"//div[@class='Section1']\")\n",
    "      pres = getNodeSet(div1[[1]], \"//pre\")\n",
    "      els = sapply(pres, xmlValue)\n",
    "      els = gsub(\"Â\", \" \", els)\n",
    "    }\n",
    "    else if (year == 1999) {\n",
    "      # Get preformatted text from <pre> elements\n",
    "      pres = getNodeSet(doc, \"//pre\")\n",
    "      txt = xmlValue(pres[[1]])\n",
    "      els = strsplit(txt, \"\\n\")[[1]]   \n",
    "    } \n",
    "    else {\n",
    "      # Get preformatted text from <pre> elements\n",
    "      pres = getNodeSet(doc, \"//pre\")\n",
    "      txt = xmlValue(pres[[1]])\n",
    "      els = strsplit(txt, \"\\r\\n\")[[1]]   \n",
    "    } \n",
    "    \n",
    "    if (is.null(file)) return(els)\n",
    "    # Write the lines as a text file.\n",
    "    writeLines(els, con = file)\n",
    "  }\n"
   ]
  },
  {
   "cell_type": "code",
   "execution_count": null,
   "metadata": {},
   "outputs": [],
   "source": [
    "years = 1999:2012\n",
    "menTables = mapply(extractResTable, url = urls, year = years)\n",
    "names(menTables) = years\n",
    "sapply(menTables, length)"
   ]
  },
  {
   "cell_type": "code",
   "execution_count": null,
   "metadata": {},
   "outputs": [],
   "source": [
    "#womenTables = mapply(extractResTable, url = urls, \n",
    "#                       year = years, sex = rep(\"female\", 14))\n",
    "#names(womenTables) = years\n",
    "#sapply(womenTables, length)\n",
    "\n",
    "\n",
    "save(menTables, file = \"CBMenTextTables.rda\")\n",
    "\n",
    "extractResTable(url = urls[11], year = 2009, sex = 'male')\n",
    "\n",
    "womenURLs = \n",
    "  c(\"results/1999/cb99f.html\", \"results/2000/Cb003f.htm\", \"results/2001/oof_f.html\",\n",
    "    \"results/2002/ooff.htm\", \"results/2003/CB03-F.HTM\",\n",
    "    \"results/2004/women.htm\", \"results/2005/CB05-F.htm\", \n",
    "    \"results/2006/women.htm\", \"results/2007/women.htm\", \n",
    "    \"results/2008/women.htm\", \"results/2009/09cucb-F.htm\",\n",
    "    \"results/2010/2010cucb10m-F.htm\", \n",
    "    \"results/2011/2011cucb10m-F.htm\",\n",
    "    \"results/2012/2012cucb10m-F.htm\")"
   ]
  },
  {
   "cell_type": "code",
   "execution_count": null,
   "metadata": {},
   "outputs": [],
   "source": [
    "years = 1999:2012\n",
    "urls = paste(ubase, womenURLs, sep = \"\")\n",
    "urls[1:3]\n",
    "womenTables = mapply(extractResTable, url = urls, year = years, sex=rep(\"female, 14\"))\n",
    "names(womenTables) = years\n",
    "sapply(womenTables, length)"
   ]
  },
  {
   "cell_type": "code",
   "execution_count": null,
   "metadata": {},
   "outputs": [],
   "source": []
  }
 ],
 "metadata": {
  "kernelspec": {
   "display_name": "R",
   "language": "R",
   "name": "ir"
  }
 },
 "nbformat": 4,
 "nbformat_minor": 2
}
